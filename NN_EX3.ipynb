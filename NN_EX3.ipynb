{
  "nbformat": 4,
  "nbformat_minor": 0,
  "metadata": {
    "accelerator": "GPU",
    "colab": {
      "name": "NN_EX3.ipynb",
      "provenance": [],
      "collapsed_sections": []
    },
    "kernelspec": {
      "display_name": "Python 3",
      "name": "python3"
    }
  },
  "cells": [
    {
      "cell_type": "code",
      "metadata": {
        "colab": {
          "base_uri": "https://localhost:8080/"
        },
        "id": "ggxDZmVSPeF4",
        "outputId": "8d9cb323-7867-46a5-a55a-6959d276fee5"
      },
      "source": [
        "%tensorflow_version 2.x\r\n",
        "import tensorflow as tf\r\n",
        "device_name = tf.test.gpu_device_name()\r\n",
        "if device_name != '/device:GPU:0':\r\n",
        "  raise SystemError('GPU device not found')\r\n",
        "print('Found GPU at: {}'.format(device_name))"
      ],
      "execution_count": null,
      "outputs": [
        {
          "output_type": "stream",
          "text": [
            "Found GPU at: /device:GPU:0\n"
          ],
          "name": "stdout"
        }
      ]
    },
    {
      "cell_type": "code",
      "metadata": {
        "id": "8b9IIxjsHukn"
      },
      "source": [
        "%tensorflow_version 2.x\n",
        "import tensorflow as tf\n",
        "import numpy as np\n",
        "import time\n",
        "from sklearn import metrics\n",
        "from sklearn.model_selection import train_test_split"
      ],
      "execution_count": 37,
      "outputs": []
    },
    {
      "cell_type": "code",
      "metadata": {
        "id": "NS7Obx8wBXI7"
      },
      "source": [
        "mnist = tf.keras.datasets.mnist\r\n",
        "(x_train, t_train), (x_test, t_test) = mnist.load_data()\r\n",
        "\r\n",
        "x_train, x_val, t_train, t_val = train_test_split(x_train, t_train, test_size=0.20, random_state=2)"
      ],
      "execution_count": 54,
      "outputs": []
    },
    {
      "cell_type": "code",
      "metadata": {
        "id": "thtSmAXZHyJN"
      },
      "source": [
        "mnist = tf.keras.datasets.mnist\n",
        "(x_train, t_train), (x_test, t_test) = mnist.load_data()\n",
        "\n",
        "x_train, x_test_images = tf.cast(x_train / 255.0, tf.float32), tf.cast(x_test / 255.0, tf.float32) # normalize\n",
        "t_test, t_train = tf.one_hot(t_test, 10),  tf.one_hot(t_train, 10)\n",
        "train_ds = tf.data.Dataset.from_tensor_slices((x_train, t_train)).shuffle(10000).batch(50)\n",
        "test_ds = tf.data.Dataset.from_tensor_slices((x_test_images, t_test)).batch(50)"
      ],
      "execution_count": 41,
      "outputs": []
    },
    {
      "cell_type": "code",
      "metadata": {
        "id": "UaNUTM1zMHTY"
      },
      "source": [
        "def loss (y, t):\n",
        "  return tf.reduce_mean(tf.nn.softmax_cross_entropy_with_logits(labels=t, logits=y))"
      ],
      "execution_count": null,
      "outputs": []
    },
    {
      "cell_type": "code",
      "metadata": {
        "id": "nvYbVXLhTLnG"
      },
      "source": [
        "def train(model, inputs, outputs, l_rate, training=False, keep_proba=None):\n",
        "  opt = tf.keras.optimizers.Adam(learning_rate=l_rate)\n",
        "  with tf.GradientTape() as t:\n",
        "    current_loss = loss(model(inputs, training, keep_proba), outputs)\n",
        "  \n",
        "  grads = t.gradient(current_loss, model.variables)\n",
        "  opt.apply_gradients(zip(grads, model.variables))"
      ],
      "execution_count": null,
      "outputs": []
    },
    {
      "cell_type": "code",
      "metadata": {
        "id": "Qk-YM6iTPXda"
      },
      "source": [
        "# part 1 setting weights and biases\r\n",
        "def weight_variable(shape, name):\r\n",
        "    initial = tf.random.truncated_normal(shape, stddev=0.1)  \r\n",
        "    return tf.Variable(initial, name=name)\r\n",
        "\r\n",
        "def bias_variable(shape, name):\r\n",
        "    initial = tf.constant(0.1, shape=shape)  # small positive values to prevent dying relus.\r\n",
        "    return tf.Variable(initial,  name=name)\r\n",
        "\r\n",
        "def conv2d(x, w, stride=1):\r\n",
        "    return tf.nn.conv2d(x, w, strides=[1, stride, stride, 1], padding='SAME')\r\n",
        "# zero padding to produce same size layer, stride=1.\r\n",
        "\r\n",
        "\r\n",
        "def max_pooling_2x2(x):\r\n",
        "    return tf.nn.max_pool2d(x, ksize=[1, 2, 2, 1], strides=[1, 2, 2, 1], padding='SAME')\r\n",
        "# max pooling layer, maximize 2x2 window, stride=2"
      ],
      "execution_count": null,
      "outputs": []
    },
    {
      "cell_type": "code",
      "metadata": {
        "id": "yfrK4koIFScz"
      },
      "source": [
        "\r\n",
        "# def accuracy(y, t):\r\n",
        "#   # Train and evaluate\r\n",
        "#   correct_prediciton = tf.equal(tf.argmax(y, 1), tf.argmax(t, 1))\r\n",
        "#   return tf.reduce_mean(tf.cast(correct_prediciton, tf.float32))"
      ],
      "execution_count": null,
      "outputs": []
    },
    {
      "cell_type": "code",
      "metadata": {
        "id": "KPbE1mpV9wcE"
      },
      "source": [
        "def predict(model, x, t, training=False, keep_prob=None):\r\n",
        "  y = model(x, training, keep_prob)\r\n",
        "  y = tf.argmax(y, 1)\r\n",
        "  t = tf.argmax(t, 1)\r\n",
        "  return y, t"
      ],
      "execution_count": null,
      "outputs": []
    },
    {
      "cell_type": "code",
      "metadata": {
        "id": "VpognNxzw7C1"
      },
      "source": [
        "def recall(y, t, labels):\r\n",
        "  return tf.reduce_mean(metrics.recall_score(t, y, labels, average=None, zero_division=0)).numpy()\r\n",
        "  \r\n",
        "def precision(y, t, labels):\r\n",
        "  return tf.reduce_mean(metrics.precision_score(t, y, labels, average=None, zero_division=0)).numpy()\r\n",
        "\r\n",
        "def F1_score(y, t, labels):\r\n",
        "  return tf.reduce_mean(metrics.f1_score(t, y, labels, average=None, zero_division=0)).numpy()\r\n",
        "\r\n",
        "# def accuracy(y, t, labels):\r\n",
        "#   return tf.reduce_mean(metrics.accuracy_score(t, y, labels)).numpy()\r\n",
        "\r\n",
        "def accuracy(y, t):\r\n",
        "  # Train and evaluate\r\n",
        "  correct_prediciton = tf.equal(tf.argmax(y, 1), tf.argmax(t, 1))\r\n",
        "  return tf.reduce_mean(tf.cast(correct_prediciton, tf.float32))\r\n"
      ],
      "execution_count": null,
      "outputs": []
    },
    {
      "cell_type": "code",
      "metadata": {
        "id": "rFHM1Xm1edMG"
      },
      "source": [
        "lbl = [0, 1, 2, 3, 4, 5, 6, 7, 8, 9]"
      ],
      "execution_count": null,
      "outputs": []
    },
    {
      "cell_type": "code",
      "metadata": {
        "id": "h0BYg4Kti7Hk"
      },
      "source": [
        "def calculate_train_stats(model, ds, training=False, keep_prob=None):\r\n",
        "  train_recalls = []\r\n",
        "  train_precisions = []\r\n",
        "  train_F1_scores = []\r\n",
        "  train_accuracies = []\r\n",
        "\r\n",
        "  i = 0\r\n",
        "  while i < 13000:\r\n",
        "    for images, labels in ds:\r\n",
        "      train(model, images, labels, 0.001, training, keep_prob)\r\n",
        "      if i % 100 == 0:\r\n",
        "        y, t = predict(model, images, labels)\r\n",
        "        train_recalls.append(recall(y, t, lbl))\r\n",
        "        train_precisions.append(precision(y, t, lbl))\r\n",
        "        train_F1_scores.append(F1_score(y, t, lbl))\r\n",
        "        train_accuracies.append(accuracy(model(images, training=False), labels))\r\n",
        "        print(\"Step %d, training accuracy %g\" % (i, accuracy(model(images, training=False), labels)))\r\n",
        "      i += 1\r\n",
        "      if i > 13000:\r\n",
        "        break\r\n",
        "\r\n",
        "  train_recall = tf.reduce_mean(train_recalls).numpy()\r\n",
        "  train_precision = tf.reduce_mean(train_precisions).numpy()\r\n",
        "  train_F1_score = tf.reduce_mean(train_F1_scores).numpy()\r\n",
        "  train_accuracy = tf.reduce_mean(train_accuracies).numpy()\r\n",
        "  return train_recall, train_precision, train_F1_score, train_accuracy"
      ],
      "execution_count": null,
      "outputs": []
    },
    {
      "cell_type": "code",
      "metadata": {
        "id": "ZaDOPWjclypG"
      },
      "source": [
        "def calculate_test_stats(model, ds):\r\n",
        "  test_recalls = []\r\n",
        "  test_precisions = []\r\n",
        "  test_F1_scores = []\r\n",
        "  test_accuracies = []\r\n",
        "\r\n",
        "  for images, labels in test_ds:\r\n",
        "    y, t = predict(model, images, labels)\r\n",
        "    test_recalls.append(recall(y, t, lbl))\r\n",
        "    test_precisions.append(precision(y, t, lbl))\r\n",
        "    test_F1_scores.append(F1_score(y, t, lbl))\r\n",
        "    test_accuracies.append(accuracy(model(images, training=False), labels))\r\n",
        "\r\n",
        "  # Test Results\r\n",
        "  test_recall = tf.reduce_mean(test_recalls).numpy()\r\n",
        "  test_precision = tf.reduce_mean(test_precisions).numpy()\r\n",
        "  test_F1_score = tf.reduce_mean(test_F1_scores).numpy()\r\n",
        "  test_accuracy = tf.reduce_mean(test_accuracies).numpy()\r\n",
        "  \r\n",
        "  return test_recall, test_precision, test_F1_score, test_accuracy"
      ],
      "execution_count": null,
      "outputs": []
    },
    {
      "cell_type": "code",
      "metadata": {
        "id": "vWCAKYwAucnx"
      },
      "source": [
        "def calculate_num_of_weights(variables):\r\n",
        "  sum = 0\r\n",
        "  for var in variables:\r\n",
        "    sum += tf.size(var).numpy()\r\n",
        "  return sum"
      ],
      "execution_count": null,
      "outputs": []
    },
    {
      "cell_type": "markdown",
      "metadata": {
        "id": "iyKgWrJEPKAA"
      },
      "source": [
        "## Model 1\r\n",
        "Logistic regression network without hidden layers"
      ]
    },
    {
      "cell_type": "code",
      "metadata": {
        "id": "1O7IyAboIWoE"
      },
      "source": [
        "class Model1:\n",
        "  def __init__(self):\n",
        "    self.w1 = tf.Variable(tf.zeros([784, 10]), name=\"Weights1\") # 28*28=784\n",
        "    self.b1 = tf.Variable(tf.zeros([10]) + 0.1, name=\"Biases1\") # 0.1 for dying relus\n",
        "    self.variables = [self.w1, self.b1]\n",
        "\n",
        "  def __call__(self, x, training=False, keep_prob=None):\n",
        "    x = tf.reshape(x , [-1, 28 * 28])\n",
        "    return tf.nn.relu(tf.matmul(x, self.w1) + self.b1)"
      ],
      "execution_count": null,
      "outputs": []
    },
    {
      "cell_type": "code",
      "metadata": {
        "colab": {
          "base_uri": "https://localhost:8080/"
        },
        "id": "pZhYT1HrNSS4",
        "outputId": "747b4aca-4193-40f6-f220-46fc85377c89"
      },
      "source": [
        "start = time.time()\r\n",
        "model1 = Model1()\r\n",
        "\r\n",
        "# Calculate Recall, Precision, F1_Score, Accuracy of Traning data\r\n",
        "train_recall1, train_precision1, train_f1_score1, train_accuracy1 = calculate_train_stats(model1, train_ds)\r\n",
        "end = time.time()\r\n",
        "time1 = end - start\r\n",
        "\r\n",
        "# Calculate Recall, Precision, F1_Score, Accuracy of Test data\r\n",
        "test_recall1, test_precision1, test_f1_score1, test_accuracy1 = calculate_test_stats(model1, test_ds)"
      ],
      "execution_count": null,
      "outputs": [
        {
          "output_type": "stream",
          "text": [
            "Step 0, training accuracy 0.78\n",
            "Step 100, training accuracy 0.88\n",
            "Step 200, training accuracy 0.88\n",
            "Step 300, training accuracy 0.94\n",
            "Step 400, training accuracy 0.92\n",
            "Step 500, training accuracy 0.92\n",
            "Step 600, training accuracy 0.92\n",
            "Step 700, training accuracy 0.96\n",
            "Step 800, training accuracy 0.8\n",
            "Step 900, training accuracy 0.88\n",
            "Step 1000, training accuracy 0.9\n",
            "Step 1100, training accuracy 0.82\n",
            "Step 1200, training accuracy 0.88\n",
            "Step 1300, training accuracy 0.94\n",
            "Step 1400, training accuracy 0.9\n",
            "Step 1500, training accuracy 0.9\n",
            "Step 1600, training accuracy 0.88\n",
            "Step 1700, training accuracy 0.9\n",
            "Step 1800, training accuracy 0.82\n",
            "Step 1900, training accuracy 0.88\n",
            "Step 2000, training accuracy 0.92\n",
            "Step 2100, training accuracy 0.88\n",
            "Step 2200, training accuracy 0.9\n",
            "Step 2300, training accuracy 0.94\n",
            "Step 2400, training accuracy 0.88\n",
            "Step 2500, training accuracy 0.84\n",
            "Step 2600, training accuracy 0.88\n",
            "Step 2700, training accuracy 0.92\n",
            "Step 2800, training accuracy 0.98\n",
            "Step 2900, training accuracy 0.92\n",
            "Step 3000, training accuracy 0.92\n",
            "Step 3100, training accuracy 0.96\n",
            "Step 3200, training accuracy 0.88\n",
            "Step 3300, training accuracy 0.88\n",
            "Step 3400, training accuracy 0.9\n",
            "Step 3500, training accuracy 0.9\n",
            "Step 3600, training accuracy 0.9\n",
            "Step 3700, training accuracy 0.86\n",
            "Step 3800, training accuracy 0.92\n",
            "Step 3900, training accuracy 0.94\n",
            "Step 4000, training accuracy 0.94\n",
            "Step 4100, training accuracy 0.92\n",
            "Step 4200, training accuracy 0.92\n",
            "Step 4300, training accuracy 0.92\n",
            "Step 4400, training accuracy 0.94\n",
            "Step 4500, training accuracy 0.82\n",
            "Step 4600, training accuracy 0.92\n",
            "Step 4700, training accuracy 0.9\n",
            "Step 4800, training accuracy 0.9\n",
            "Step 4900, training accuracy 0.98\n",
            "Step 5000, training accuracy 0.88\n",
            "Step 5100, training accuracy 0.86\n",
            "Step 5200, training accuracy 0.92\n",
            "Step 5300, training accuracy 0.88\n",
            "Step 5400, training accuracy 0.88\n",
            "Step 5500, training accuracy 0.86\n",
            "Step 5600, training accuracy 0.96\n",
            "Step 5700, training accuracy 0.84\n",
            "Step 5800, training accuracy 0.9\n",
            "Step 5900, training accuracy 0.86\n",
            "Step 6000, training accuracy 0.9\n",
            "Step 6100, training accuracy 0.92\n",
            "Step 6200, training accuracy 0.88\n",
            "Step 6300, training accuracy 0.88\n",
            "Step 6400, training accuracy 0.84\n",
            "Step 6500, training accuracy 0.8\n",
            "Step 6600, training accuracy 0.9\n",
            "Step 6700, training accuracy 0.84\n",
            "Step 6800, training accuracy 0.76\n",
            "Step 6900, training accuracy 0.86\n",
            "Step 7000, training accuracy 0.88\n",
            "Step 7100, training accuracy 0.88\n",
            "Step 7200, training accuracy 0.98\n",
            "Step 7300, training accuracy 0.94\n",
            "Step 7400, training accuracy 0.96\n",
            "Step 7500, training accuracy 0.88\n",
            "Step 7600, training accuracy 0.9\n",
            "Step 7700, training accuracy 0.98\n",
            "Step 7800, training accuracy 0.9\n",
            "Step 7900, training accuracy 0.9\n",
            "Step 8000, training accuracy 0.9\n",
            "Step 8100, training accuracy 0.94\n",
            "Step 8200, training accuracy 0.92\n",
            "Step 8300, training accuracy 0.88\n",
            "Step 8400, training accuracy 0.9\n",
            "Step 8500, training accuracy 0.96\n",
            "Step 8600, training accuracy 0.88\n",
            "Step 8700, training accuracy 0.94\n",
            "Step 8800, training accuracy 0.9\n",
            "Step 8900, training accuracy 0.94\n",
            "Step 9000, training accuracy 0.88\n",
            "Step 9100, training accuracy 0.88\n",
            "Step 9200, training accuracy 0.84\n",
            "Step 9300, training accuracy 0.86\n",
            "Step 9400, training accuracy 0.96\n",
            "Step 9500, training accuracy 0.94\n",
            "Step 9600, training accuracy 0.94\n",
            "Step 9700, training accuracy 0.92\n",
            "Step 9800, training accuracy 0.84\n",
            "Step 9900, training accuracy 0.9\n",
            "Step 10000, training accuracy 0.8\n",
            "Step 10100, training accuracy 0.78\n",
            "Step 10200, training accuracy 0.92\n",
            "Step 10300, training accuracy 0.84\n",
            "Step 10400, training accuracy 0.82\n",
            "Step 10500, training accuracy 0.82\n",
            "Step 10600, training accuracy 0.92\n",
            "Step 10700, training accuracy 0.96\n",
            "Step 10800, training accuracy 0.92\n",
            "Step 10900, training accuracy 0.9\n",
            "Step 11000, training accuracy 0.88\n",
            "Step 11100, training accuracy 0.9\n",
            "Step 11200, training accuracy 0.94\n",
            "Step 11300, training accuracy 0.98\n",
            "Step 11400, training accuracy 0.9\n",
            "Step 11500, training accuracy 0.9\n",
            "Step 11600, training accuracy 0.82\n",
            "Step 11700, training accuracy 0.96\n",
            "Step 11800, training accuracy 0.92\n",
            "Step 11900, training accuracy 0.88\n",
            "Step 12000, training accuracy 0.94\n",
            "Step 12100, training accuracy 0.92\n",
            "Step 12200, training accuracy 0.9\n",
            "Step 12300, training accuracy 0.86\n",
            "Step 12400, training accuracy 0.98\n",
            "Step 12500, training accuracy 0.88\n",
            "Step 12600, training accuracy 0.88\n",
            "Step 12700, training accuracy 0.96\n",
            "Step 12800, training accuracy 0.86\n",
            "Step 12900, training accuracy 0.98\n",
            "Step 13000, training accuracy 0.86\n"
          ],
          "name": "stdout"
        }
      ]
    },
    {
      "cell_type": "code",
      "metadata": {
        "colab": {
          "base_uri": "https://localhost:8080/"
        },
        "id": "b4U4pIHRsp3c",
        "outputId": "ad5586e3-d417-4319-9684-4061b2d74237"
      },
      "source": [
        "print(\"Time = \", time1)\r\n",
        "print(\"Weights amount = \", calculate_num_of_weights(model1.variables))\r\n",
        "print(\"Training Results:\")\r\n",
        "print(\"\\tRecall = %g\" % train_recall1)\r\n",
        "print(\"\\tPrecision = %g\" % train_precision1)\r\n",
        "print(\"\\tF1 Score = %g\" % train_f1_score1)\r\n",
        "print(\"\\taccuracy = %g\" % train_accuracy1)\r\n",
        "print(\"\\nTest Results:\")\r\n",
        "print(\"\\tRecall = %g\" % test_recall1)\r\n",
        "print(\"\\tPrecision = %g\" % test_precision1)\r\n",
        "print(\"\\tF1 Score = %g\" % test_f1_score1)\r\n",
        "print(\"\\taccuracy = %g\" % test_accuracy1)"
      ],
      "execution_count": null,
      "outputs": [
        {
          "output_type": "stream",
          "text": [
            "Time =  111.37404704093933\n",
            "Weights amount =  7850\n",
            "Training Results:\n",
            "\tRecall = 0.884511\n",
            "\tPrecision = 0.888669\n",
            "\tF1 Score = 0.874721\n",
            "\taccuracy = 0.896946\n",
            "\n",
            "Test Results:\n",
            "\tRecall = 0.904936\n",
            "\tPrecision = 0.908166\n",
            "\tF1 Score = 0.895204\n",
            "\taccuracy = 0.9113\n"
          ],
          "name": "stdout"
        }
      ]
    },
    {
      "cell_type": "markdown",
      "metadata": {
        "id": "r0HfozOGPPYE"
      },
      "source": [
        "## Model 2\r\n",
        "Logistis regression network with 2 fully connected hidden layers of 200 neurons"
      ]
    },
    {
      "cell_type": "code",
      "metadata": {
        "id": "2O068QeoSSbN"
      },
      "source": [
        "class Model2:\n",
        "  def __init__(self):\n",
        "    self.w1 = tf.Variable(tf.zeros([784, 200]), name=\"Weights1\") # 28*28=784\n",
        "    self.b1 = tf.Variable(tf.zeros([200]) + 0.1, name=\"Biases1\") # 0.1 for dying relus\n",
        "    self.w2 = tf.Variable(tf.zeros([200, 200]), name=\"Weights2\")\n",
        "    self.b2 = tf.Variable(tf.zeros([200]) + 0.1, name=\"Biases2\") # 0.1 for dying relus\n",
        "    self.w3 = tf.Variable(tf.zeros([200, 10]), name=\"Weights2\")\n",
        "    self.b3 = tf.Variable(tf.zeros([10]) + 0.1, name=\"Biases2\") # 0.1 for dying relus\n",
        "    self.variables = [self.w1, self.b1, self.w2, self.b2, self.w3, self.b3]\n",
        "\n",
        "  def __call__(self, x, training=False, keep_prob=None):\n",
        "    x = tf.reshape(x , [-1, 28 * 28])\n",
        "    y1 = tf.matmul(x, self.w1) + self.b1\n",
        "    hidden1 = tf.nn.relu(y1)\n",
        "    y2 = tf.matmul(hidden1, self.w2) + self.b2\n",
        "    hidden2 = tf.nn.relu(y2)\n",
        "    return tf.nn.relu(tf.matmul(hidden2, self.w3) + self.b3)"
      ],
      "execution_count": null,
      "outputs": []
    },
    {
      "cell_type": "code",
      "metadata": {
        "colab": {
          "base_uri": "https://localhost:8080/"
        },
        "id": "MIBFGYjKSAxH",
        "outputId": "1c6a6442-5a65-4c83-c8d9-9d3b99096cd9"
      },
      "source": [
        "start = time.time()\r\n",
        "model2 = Model2()\r\n",
        "\r\n",
        "# Calculate Recall, Precision, F1_Score, Accuracy of Traning data\r\n",
        "train_recall2, train_precision2, train_f1_score2, train_accuracy2 = calculate_train_stats(model2, train_ds)\r\n",
        "end = time.time()\r\n",
        "time2 = end - start\r\n",
        "\r\n",
        "# Calculate Recall, Precision, F1_Score, Accuracy of Test data\r\n",
        "test_recall2, test_precision2, test_f1_score2, test_accuracy2 = calculate_test_stats(model2, test_ds)"
      ],
      "execution_count": null,
      "outputs": [
        {
          "output_type": "stream",
          "text": [
            "Step 0, training accuracy 0.14\n",
            "Step 100, training accuracy 0.28\n",
            "Step 200, training accuracy 0.28\n",
            "Step 300, training accuracy 0.22\n",
            "Step 400, training accuracy 0.24\n",
            "Step 500, training accuracy 0.22\n",
            "Step 600, training accuracy 0.24\n",
            "Step 700, training accuracy 0.1\n",
            "Step 800, training accuracy 0.22\n",
            "Step 900, training accuracy 0.16\n",
            "Step 1000, training accuracy 0.26\n",
            "Step 1100, training accuracy 0.22\n",
            "Step 1200, training accuracy 0.16\n",
            "Step 1300, training accuracy 0.14\n",
            "Step 1400, training accuracy 0.18\n",
            "Step 1500, training accuracy 0.24\n",
            "Step 1600, training accuracy 0.3\n",
            "Step 1700, training accuracy 0.36\n",
            "Step 1800, training accuracy 0.14\n",
            "Step 1900, training accuracy 0.36\n",
            "Step 2000, training accuracy 0.14\n",
            "Step 2100, training accuracy 0.14\n",
            "Step 2200, training accuracy 0.16\n",
            "Step 2300, training accuracy 0.24\n",
            "Step 2400, training accuracy 0.26\n",
            "Step 2500, training accuracy 0.32\n",
            "Step 2600, training accuracy 0.18\n",
            "Step 2700, training accuracy 0.22\n",
            "Step 2800, training accuracy 0.28\n",
            "Step 2900, training accuracy 0.28\n",
            "Step 3000, training accuracy 0.18\n",
            "Step 3100, training accuracy 0.12\n",
            "Step 3200, training accuracy 0.3\n",
            "Step 3300, training accuracy 0.18\n",
            "Step 3400, training accuracy 0.2\n",
            "Step 3500, training accuracy 0.16\n",
            "Step 3600, training accuracy 0.22\n",
            "Step 3700, training accuracy 0.28\n",
            "Step 3800, training accuracy 0.24\n",
            "Step 3900, training accuracy 0.22\n",
            "Step 4000, training accuracy 0.22\n",
            "Step 4100, training accuracy 0.26\n",
            "Step 4200, training accuracy 0.22\n",
            "Step 4300, training accuracy 0.28\n",
            "Step 4400, training accuracy 0.2\n",
            "Step 4500, training accuracy 0.14\n",
            "Step 4600, training accuracy 0.16\n",
            "Step 4700, training accuracy 0.18\n",
            "Step 4800, training accuracy 0.24\n",
            "Step 4900, training accuracy 0.18\n",
            "Step 5000, training accuracy 0.28\n",
            "Step 5100, training accuracy 0.2\n",
            "Step 5200, training accuracy 0.2\n",
            "Step 5300, training accuracy 0.28\n",
            "Step 5400, training accuracy 0.2\n",
            "Step 5500, training accuracy 0.18\n",
            "Step 5600, training accuracy 0.26\n",
            "Step 5700, training accuracy 0.24\n",
            "Step 5800, training accuracy 0.16\n",
            "Step 5900, training accuracy 0.3\n",
            "Step 6000, training accuracy 0.26\n",
            "Step 6100, training accuracy 0.18\n",
            "Step 6200, training accuracy 0.2\n",
            "Step 6300, training accuracy 0.24\n",
            "Step 6400, training accuracy 0.24\n",
            "Step 6500, training accuracy 0.2\n",
            "Step 6600, training accuracy 0.18\n",
            "Step 6700, training accuracy 0.22\n",
            "Step 6800, training accuracy 0.12\n",
            "Step 6900, training accuracy 0.2\n",
            "Step 7000, training accuracy 0.24\n",
            "Step 7100, training accuracy 0.12\n",
            "Step 7200, training accuracy 0.32\n",
            "Step 7300, training accuracy 0.28\n",
            "Step 7400, training accuracy 0.14\n",
            "Step 7500, training accuracy 0.24\n",
            "Step 7600, training accuracy 0.26\n",
            "Step 7700, training accuracy 0.2\n",
            "Step 7800, training accuracy 0.24\n",
            "Step 7900, training accuracy 0.14\n",
            "Step 8000, training accuracy 0.22\n",
            "Step 8100, training accuracy 0.2\n",
            "Step 8200, training accuracy 0.18\n",
            "Step 8300, training accuracy 0.3\n",
            "Step 8400, training accuracy 0.18\n",
            "Step 8500, training accuracy 0.26\n",
            "Step 8600, training accuracy 0.32\n",
            "Step 8700, training accuracy 0.16\n",
            "Step 8800, training accuracy 0.24\n",
            "Step 8900, training accuracy 0.22\n",
            "Step 9000, training accuracy 0.18\n",
            "Step 9100, training accuracy 0.28\n",
            "Step 9200, training accuracy 0.24\n",
            "Step 9300, training accuracy 0.22\n",
            "Step 9400, training accuracy 0.2\n",
            "Step 9500, training accuracy 0.18\n",
            "Step 9600, training accuracy 0.16\n",
            "Step 9700, training accuracy 0.2\n",
            "Step 9800, training accuracy 0.22\n",
            "Step 9900, training accuracy 0.26\n",
            "Step 10000, training accuracy 0.22\n",
            "Step 10100, training accuracy 0.22\n",
            "Step 10200, training accuracy 0.16\n",
            "Step 10300, training accuracy 0.12\n",
            "Step 10400, training accuracy 0.22\n",
            "Step 10500, training accuracy 0.28\n",
            "Step 10600, training accuracy 0.22\n",
            "Step 10700, training accuracy 0.16\n",
            "Step 10800, training accuracy 0.14\n",
            "Step 10900, training accuracy 0.14\n",
            "Step 11000, training accuracy 0.2\n",
            "Step 11100, training accuracy 0.16\n",
            "Step 11200, training accuracy 0.34\n",
            "Step 11300, training accuracy 0.22\n",
            "Step 11400, training accuracy 0.18\n",
            "Step 11500, training accuracy 0.26\n",
            "Step 11600, training accuracy 0.3\n",
            "Step 11700, training accuracy 0.22\n",
            "Step 11800, training accuracy 0.22\n",
            "Step 11900, training accuracy 0.28\n",
            "Step 12000, training accuracy 0.22\n",
            "Step 12100, training accuracy 0.18\n",
            "Step 12200, training accuracy 0.18\n",
            "Step 12300, training accuracy 0.24\n",
            "Step 12400, training accuracy 0.26\n",
            "Step 12500, training accuracy 0.16\n",
            "Step 12600, training accuracy 0.28\n",
            "Step 12700, training accuracy 0.24\n",
            "Step 12800, training accuracy 0.18\n",
            "Step 12900, training accuracy 0.06\n",
            "Step 13000, training accuracy 0.16\n"
          ],
          "name": "stdout"
        }
      ]
    },
    {
      "cell_type": "code",
      "metadata": {
        "colab": {
          "base_uri": "https://localhost:8080/"
        },
        "id": "efQ2zD2SSOM5",
        "outputId": "c317db65-30d3-4108-f014-d8abbded26cb"
      },
      "source": [
        "print(\"Time = \", time2)\r\n",
        "print(\"Weights amount = \", calculate_num_of_weights(model2.variables))\r\n",
        "print(\"Training Results:\")\r\n",
        "print(\"\\tRecall = %g\" % train_recall2)\r\n",
        "print(\"\\tPrecision = %g\" % train_precision2)\r\n",
        "print(\"\\tF1 Score = %g\" % train_f1_score2)\r\n",
        "print(\"\\taccuracy = %g\" % train_accuracy2)\r\n",
        "print(\"\\nTest Results:\")\r\n",
        "print(\"\\tRecall = %g\" % test_recall2)\r\n",
        "print(\"\\tPrecision = %g\" % test_precision2)\r\n",
        "print(\"\\tF1 Score = %g\" % test_f1_score2)\r\n",
        "print(\"\\taccuracy = %g\" % test_accuracy2)"
      ],
      "execution_count": null,
      "outputs": [
        {
          "output_type": "stream",
          "text": [
            "Time =  169.30014872550964\n",
            "Weights amount =  199210\n",
            "Training Results:\n",
            "\tRecall = 0.19089\n",
            "\tPrecision = 0.0540295\n",
            "\tF1 Score = 0.0785103\n",
            "\taccuracy = 0.21542\n",
            "\n",
            "Test Results:\n",
            "\tRecall = 0.187444\n",
            "\tPrecision = 0.0425242\n",
            "\tF1 Score = 0.0665206\n",
            "\taccuracy = 0.1862\n"
          ],
          "name": "stdout"
        }
      ]
    },
    {
      "cell_type": "markdown",
      "metadata": {
        "id": "6djDfsb6PU3Z"
      },
      "source": [
        "## Model 3\r\n",
        "Logistic regression network with one convolutional layer with 32 filters (5x5, stride = 1, padding) and 2x2 max pooling layer with stride = 2. "
      ]
    },
    {
      "cell_type": "code",
      "metadata": {
        "id": "BPQrISkWRBpQ"
      },
      "source": [
        "class Model3:\r\n",
        "  def __init__(self):\r\n",
        "    self.w_conv1 = weight_variable([5, 5, 1, 32], name=\"WeightsC1\")  # 32 filters of 5X5X1\r\n",
        "    self.b_conv1 = bias_variable([32], name=\"BiasesC1\")  # every neuron is a filter for 5X5 pixel sub matrix\r\n",
        "    # that means that every 5X5 weights multiplication is summed and added with one bias\r\n",
        "    # Stacking a second convolutional layer\r\n",
        "    self.w_conv2 = weight_variable([5, 5, 32, 32], name=\"WeightsC2\")  # 64 filters of 5x5x32\r\n",
        "    # takes into account the out put of all 32 filters from the first layer.\r\n",
        "    self.b_conv2 = bias_variable([32], name=\"BiasesC2\")\r\n",
        "     # Fully connected layer of 1024 units\r\n",
        "     # Max pooling layer of 2x2, pic becomes 7x7x64\r\n",
        "    self.w_fc1 = weight_variable([7*7*32, 1024], name=\"WeightsFC1\")\r\n",
        "    self.b_fc1 = bias_variable([1024], name=\"BiasesFC1\")\r\n",
        "    # Final layer - softmax\r\n",
        "    self.w_fc2 = weight_variable([1024, 10], name=\"WeightsFC2\")\r\n",
        "    self.b_fc2 = bias_variable([10], name=\"BiasesFC2\")\r\n",
        "    self.variables = [self.w_conv1, self.w_fc1, self.w_fc2, self.b_conv1, self.b_fc1, self.b_fc2]\r\n",
        "   \r\n",
        "  def __call__(self, x, training=False, keep_prob=None):\r\n",
        "    x = tf.reshape(x, [-1, 28, 28, 1])  # input layer 28x28x1\r\n",
        "    # -1 means: compute that dim so other dims will remain as defined.\r\n",
        "    h_covn1 = tf.nn.relu(conv2d(x, self.w_conv1) + self.b_conv1)\r\n",
        "    h_pool1 = max_pooling_2x2(h_covn1)\r\n",
        "    h_conv2 = tf.nn.relu(conv2d(h_pool1, self.w_conv2, 1) + self.b_conv2)\r\n",
        "    h_pool2 = max_pooling_2x2(h_conv2)\r\n",
        "    # Max pooling layer of 2x2, pic becomes 14x14x32\r\n",
        "    h_pool2_flat = tf.reshape(h_pool2, [-1, 7*7*32])  \r\n",
        "    # -1 means: compute that dim so other dims will remain as defined.\r\n",
        "    h_fc1 = tf.nn.relu(tf.matmul(h_pool2_flat, self.w_fc1) + self.b_fc1)\r\n",
        "    return tf.matmul(h_fc1, self.w_fc2) + self.b_fc2  "
      ],
      "execution_count": null,
      "outputs": []
    },
    {
      "cell_type": "code",
      "metadata": {
        "colab": {
          "base_uri": "https://localhost:8080/"
        },
        "id": "U6JFPCHpSZxp",
        "outputId": "025d54d4-7199-4b0e-bd3a-09b60a4eebab"
      },
      "source": [
        "start = time.time()\r\n",
        "model3 = Model3()\r\n",
        "\r\n",
        "# Calculate Recall, Precision, F1_Score, Accuracy of Traning data\r\n",
        "train_recall3, train_precision3, train_f1_score3, train_accuracy3 = calculate_train_stats(model3, train_ds)\r\n",
        "end = time.time()\r\n",
        "time3 = end - start\r\n",
        "\r\n",
        "# Calculate Recall, Precision, F1_Score, Accuracy of Test data\r\n",
        "test_recall3, test_precision3, test_f1_score3, test_accuracy3 = calculate_test_stats(model3, test_ds)"
      ],
      "execution_count": null,
      "outputs": [
        {
          "output_type": "stream",
          "text": [
            "Step 0, training accuracy 0.22\n",
            "Step 100, training accuracy 0.78\n",
            "Step 200, training accuracy 0.9\n",
            "Step 300, training accuracy 0.98\n",
            "Step 400, training accuracy 0.96\n",
            "Step 500, training accuracy 0.92\n",
            "Step 600, training accuracy 1\n",
            "Step 700, training accuracy 0.96\n",
            "Step 800, training accuracy 1\n",
            "Step 900, training accuracy 0.98\n",
            "Step 1000, training accuracy 1\n",
            "Step 1100, training accuracy 0.94\n",
            "Step 1200, training accuracy 0.98\n",
            "Step 1300, training accuracy 0.98\n",
            "Step 1400, training accuracy 0.96\n",
            "Step 1500, training accuracy 0.98\n",
            "Step 1600, training accuracy 0.96\n",
            "Step 1700, training accuracy 0.98\n",
            "Step 1800, training accuracy 1\n",
            "Step 1900, training accuracy 0.98\n",
            "Step 2000, training accuracy 1\n",
            "Step 2100, training accuracy 0.96\n",
            "Step 2200, training accuracy 1\n",
            "Step 2300, training accuracy 1\n",
            "Step 2400, training accuracy 1\n",
            "Step 2500, training accuracy 0.98\n",
            "Step 2600, training accuracy 1\n",
            "Step 2700, training accuracy 0.98\n",
            "Step 2800, training accuracy 0.98\n",
            "Step 2900, training accuracy 1\n",
            "Step 3000, training accuracy 0.98\n",
            "Step 3100, training accuracy 1\n",
            "Step 3200, training accuracy 1\n",
            "Step 3300, training accuracy 1\n",
            "Step 3400, training accuracy 1\n",
            "Step 3500, training accuracy 1\n",
            "Step 3600, training accuracy 0.96\n",
            "Step 3700, training accuracy 1\n",
            "Step 3800, training accuracy 0.96\n",
            "Step 3900, training accuracy 1\n",
            "Step 4000, training accuracy 1\n",
            "Step 4100, training accuracy 1\n",
            "Step 4200, training accuracy 1\n",
            "Step 4300, training accuracy 1\n",
            "Step 4400, training accuracy 1\n",
            "Step 4500, training accuracy 0.96\n",
            "Step 4600, training accuracy 0.98\n",
            "Step 4700, training accuracy 1\n",
            "Step 4800, training accuracy 1\n",
            "Step 4900, training accuracy 1\n",
            "Step 5000, training accuracy 1\n",
            "Step 5100, training accuracy 1\n",
            "Step 5200, training accuracy 1\n",
            "Step 5300, training accuracy 1\n",
            "Step 5400, training accuracy 1\n",
            "Step 5500, training accuracy 1\n",
            "Step 5600, training accuracy 1\n",
            "Step 5700, training accuracy 1\n",
            "Step 5800, training accuracy 0.98\n",
            "Step 5900, training accuracy 0.98\n",
            "Step 6000, training accuracy 1\n",
            "Step 6100, training accuracy 1\n",
            "Step 6200, training accuracy 0.98\n",
            "Step 6300, training accuracy 0.92\n",
            "Step 6400, training accuracy 0.98\n",
            "Step 6500, training accuracy 1\n",
            "Step 6600, training accuracy 1\n",
            "Step 6700, training accuracy 1\n",
            "Step 6800, training accuracy 1\n",
            "Step 6900, training accuracy 1\n",
            "Step 7000, training accuracy 1\n",
            "Step 7100, training accuracy 0.98\n",
            "Step 7200, training accuracy 1\n",
            "Step 7300, training accuracy 1\n",
            "Step 7400, training accuracy 1\n",
            "Step 7500, training accuracy 1\n",
            "Step 7600, training accuracy 0.94\n",
            "Step 7700, training accuracy 1\n",
            "Step 7800, training accuracy 0.98\n",
            "Step 7900, training accuracy 0.98\n",
            "Step 8000, training accuracy 0.98\n",
            "Step 8100, training accuracy 1\n",
            "Step 8200, training accuracy 1\n",
            "Step 8300, training accuracy 1\n",
            "Step 8400, training accuracy 1\n",
            "Step 8500, training accuracy 1\n",
            "Step 8600, training accuracy 1\n",
            "Step 8700, training accuracy 1\n",
            "Step 8800, training accuracy 1\n",
            "Step 8900, training accuracy 1\n",
            "Step 9000, training accuracy 1\n",
            "Step 9100, training accuracy 1\n",
            "Step 9200, training accuracy 1\n",
            "Step 9300, training accuracy 1\n",
            "Step 9400, training accuracy 0.96\n",
            "Step 9500, training accuracy 1\n",
            "Step 9600, training accuracy 1\n",
            "Step 9700, training accuracy 1\n",
            "Step 9800, training accuracy 1\n",
            "Step 9900, training accuracy 1\n",
            "Step 10000, training accuracy 1\n",
            "Step 10100, training accuracy 1\n",
            "Step 10200, training accuracy 1\n",
            "Step 10300, training accuracy 1\n",
            "Step 10400, training accuracy 1\n",
            "Step 10500, training accuracy 1\n",
            "Step 10600, training accuracy 1\n",
            "Step 10700, training accuracy 0.98\n",
            "Step 10800, training accuracy 1\n",
            "Step 10900, training accuracy 1\n",
            "Step 11000, training accuracy 0.98\n",
            "Step 11100, training accuracy 1\n",
            "Step 11200, training accuracy 1\n",
            "Step 11300, training accuracy 1\n",
            "Step 11400, training accuracy 1\n",
            "Step 11500, training accuracy 1\n",
            "Step 11600, training accuracy 1\n",
            "Step 11700, training accuracy 1\n",
            "Step 11800, training accuracy 0.98\n",
            "Step 11900, training accuracy 1\n",
            "Step 12000, training accuracy 1\n",
            "Step 12100, training accuracy 1\n",
            "Step 12200, training accuracy 1\n",
            "Step 12300, training accuracy 1\n",
            "Step 12400, training accuracy 1\n",
            "Step 12500, training accuracy 1\n",
            "Step 12600, training accuracy 1\n",
            "Step 12700, training accuracy 1\n",
            "Step 12800, training accuracy 1\n",
            "Step 12900, training accuracy 1\n",
            "Step 13000, training accuracy 1\n"
          ],
          "name": "stdout"
        }
      ]
    },
    {
      "cell_type": "code",
      "metadata": {
        "id": "Izl1nqJmTBN4",
        "colab": {
          "base_uri": "https://localhost:8080/"
        },
        "outputId": "21aabd00-fb12-4607-b5e3-485d748e2a6c"
      },
      "source": [
        "print(\"Time = \", time3)\r\n",
        "print(\"Weights amount = \", calculate_num_of_weights(model3.variables))\r\n",
        "print(\"Training Results:\")\r\n",
        "print(\"\\tRecall = %g\" % train_recall3)\r\n",
        "print(\"\\tPrecision = %g\" % train_precision3)\r\n",
        "print(\"\\tF1 Score = %g\" % train_f1_score3)\r\n",
        "print(\"\\taccuracy = %g\" % train_accuracy3)\r\n",
        "print(\"\\nTest Results:\")\r\n",
        "print(\"\\tRecall = %g\" % test_recall3)\r\n",
        "print(\"\\tPrecision = %g\" % test_precision3)\r\n",
        "print(\"\\tF1 Score = %g\" % test_f1_score3)\r\n",
        "print(\"\\taccuracy = %g\" % test_accuracy3)"
      ],
      "execution_count": 25,
      "outputs": [
        {
          "output_type": "stream",
          "text": [
            "Time =  195.6018989086151\n",
            "Weights amount =  1617738\n",
            "Training Results:\n",
            "\tRecall = 0.975436\n",
            "\tPrecision = 0.975694\n",
            "\tF1 Score = 0.97363\n",
            "\taccuracy = 0.983206\n",
            "\n",
            "Test Results:\n",
            "\tRecall = 0.979587\n",
            "\tPrecision = 0.980493\n",
            "\tF1 Score = 0.977823\n",
            "\taccuracy = 0.984\n"
          ],
          "name": "stdout"
        }
      ]
    },
    {
      "cell_type": "markdown",
      "metadata": {
        "id": "2gug7ct0CHC7"
      },
      "source": [
        "## Model 4"
      ]
    },
    {
      "cell_type": "code",
      "metadata": {
        "id": "YnWFKHlYCIQP"
      },
      "source": [
        "class Model4:\r\n",
        "  def __init__(self):\r\n",
        "    self.w_conv1 = weight_variable([5, 5, 1, 32], name=\"WeightsC1\")  # 32 filters of 5X5X1\r\n",
        "    self.b_conv1 = bias_variable([32], name=\"BiasesC1\")  # every neuron is a filter for 5X5 pixel sub matrix\r\n",
        "    # that means that every 5X5 weights multiplication is summed and added with one bias\r\n",
        "    # Stacking a second convolutional layer\r\n",
        "    # Max pooling layer of 2x2, pic becomes 14x14x32\r\n",
        "    self.w_conv2 = weight_variable([5, 5, 32, 32], name=\"WeightsC2\")  # 64 filters of 5x5x32\r\n",
        "    # takes into account the out put of all 32 filters from the first layer.\r\n",
        "    self.b_conv2 = bias_variable([32], name=\"BiasesC2\")\r\n",
        "    # Stacking a third convolutional layer\r\n",
        "    # Max pooling layer of 2x2, pic becomes 7x7x32\r\n",
        "    self.w_conv3 = weight_variable([5, 5, 32, 64], name=\"WeightsC2\")  # 64 filters of 5x5x32\r\n",
        "    # takes into account the out put of all 32 filters from the first layer.\r\n",
        "    self.b_conv3 = bias_variable([64], name=\"BiasesC2\")\r\n",
        "     # Fully connected layer of 1024 units\r\n",
        "     # Convolution layer with stride 2, pic becomes 4x4x64\r\n",
        "     # Max pooling layer of 2x2, pic becomes 2x2x64\r\n",
        "    self.w_fc1 = weight_variable([2*2*64, 1024], name=\"WeightsFC1\")\r\n",
        "    self.b_fc1 = bias_variable([1024], name=\"BiasesFC1\")\r\n",
        "    # Final layer - softmax\r\n",
        "    self.w_fc2 = weight_variable([1024, 10], name=\"WeightsFC2\")\r\n",
        "    self.b_fc2 = bias_variable([10], name=\"BiasesFC2\")\r\n",
        "    self.variables = [self.w_conv1, self.w_conv2, self.w_fc1, self.w_fc2,self.w_conv3, self.b_conv1, self.b_conv2, self.b_conv3, self.b_fc1, self.b_fc2]\r\n",
        "   \r\n",
        "  def __call__(self, x, training=False, keep_prob=None):\r\n",
        "    x = tf.reshape(x, [-1, 28, 28, 1])  # input layer 28x28x1\r\n",
        "    # -1 means: compute that dim so other dims will remain as defined.\r\n",
        "    h_covn1 = tf.nn.relu(conv2d(x, self.w_conv1) + self.b_conv1)\r\n",
        "    h_pool1 = max_pooling_2x2(h_covn1)\r\n",
        "    h_conv2 = tf.nn.relu(conv2d(h_pool1, self.w_conv2) + self.b_conv2)\r\n",
        "    h_pool2 = max_pooling_2x2(h_conv2)\r\n",
        "    h_conv3 = tf.nn.relu(conv2d(h_pool2, self.w_conv3, 2) + self.b_conv3)\r\n",
        "    h_pool3 = max_pooling_2x2(h_conv3)\r\n",
        "    # Max pooling layer of 2x2, pic becomes 7x7x64\r\n",
        "    h_pool3_flat = tf.reshape(h_pool3, [-1, 2*2*64])  \r\n",
        "    # -1 means: compute that dim so other dims will remain as defined.\r\n",
        "    h_fc1 = tf.nn.relu(tf.matmul(h_pool3_flat, self.w_fc1) + self.b_fc1)\r\n",
        "    return tf.matmul(h_fc1, self.w_fc2) + self.b_fc2    "
      ],
      "execution_count": null,
      "outputs": []
    },
    {
      "cell_type": "code",
      "metadata": {
        "colab": {
          "background_save": true
        },
        "id": "5vlA5Dx7SekO",
        "outputId": "791200d0-82b1-4055-efba-d5fd46791084"
      },
      "source": [
        "start = time.time()\r\n",
        "model4 = Model4()\r\n",
        "\r\n",
        "# Calculate Recall, Precision, F1_Score, Accuracy of Traning data\r\n",
        "train_recall4, train_precision4, train_f1_score4, train_accuracy4 = calculate_train_stats(model4, train_ds)\r\n",
        "end = time.time()\r\n",
        "time4 = end - start\r\n",
        "\r\n",
        "# Calculate Recall, Precision, F1_Score, Accuracy of Test data\r\n",
        "test_recall4, test_precision4, test_f1_score4, test_accuracy4 = calculate_test_stats(model4, test_ds)"
      ],
      "execution_count": null,
      "outputs": [
        {
          "output_type": "stream",
          "text": [
            "Step 0, training accuracy 0.08\n",
            "Step 100, training accuracy 0.94\n",
            "Step 200, training accuracy 0.96\n",
            "Step 300, training accuracy 0.98\n",
            "Step 400, training accuracy 0.98\n",
            "Step 500, training accuracy 0.98\n",
            "Step 600, training accuracy 1\n",
            "Step 700, training accuracy 0.98\n",
            "Step 800, training accuracy 0.96\n",
            "Step 900, training accuracy 1\n",
            "Step 1000, training accuracy 1\n",
            "Step 1100, training accuracy 1\n",
            "Step 1200, training accuracy 1\n",
            "Step 1300, training accuracy 0.96\n",
            "Step 1400, training accuracy 1\n",
            "Step 1500, training accuracy 0.98\n",
            "Step 1600, training accuracy 1\n",
            "Step 1700, training accuracy 1\n",
            "Step 1800, training accuracy 0.98\n",
            "Step 1900, training accuracy 0.98\n",
            "Step 2000, training accuracy 1\n",
            "Step 2100, training accuracy 0.96\n",
            "Step 2200, training accuracy 1\n",
            "Step 2300, training accuracy 1\n",
            "Step 2400, training accuracy 1\n",
            "Step 2500, training accuracy 1\n",
            "Step 2600, training accuracy 1\n",
            "Step 2700, training accuracy 1\n",
            "Step 2800, training accuracy 1\n",
            "Step 2900, training accuracy 1\n",
            "Step 3000, training accuracy 1\n",
            "Step 3100, training accuracy 1\n",
            "Step 3200, training accuracy 1\n",
            "Step 3300, training accuracy 1\n",
            "Step 3400, training accuracy 1\n",
            "Step 3500, training accuracy 1\n",
            "Step 3600, training accuracy 1\n",
            "Step 3700, training accuracy 1\n",
            "Step 3800, training accuracy 1\n",
            "Step 3900, training accuracy 0.98\n"
          ],
          "name": "stdout"
        },
        {
          "output_type": "error",
          "ename": "KeyboardInterrupt",
          "evalue": "ignored",
          "traceback": [
            "\u001b[0;31m---------------------------------------------------------------------------\u001b[0m",
            "\u001b[0;31mKeyboardInterrupt\u001b[0m                         Traceback (most recent call last)",
            "\u001b[0;32m<ipython-input-24-a73319da38f4>\u001b[0m in \u001b[0;36m<module>\u001b[0;34m()\u001b[0m\n\u001b[1;32m      3\u001b[0m \u001b[0;34m\u001b[0m\u001b[0m\n\u001b[1;32m      4\u001b[0m \u001b[0;31m# Calculate Recall, Precision, F1_Score, Accuracy of Traning data\u001b[0m\u001b[0;34m\u001b[0m\u001b[0;34m\u001b[0m\u001b[0;34m\u001b[0m\u001b[0m\n\u001b[0;32m----> 5\u001b[0;31m \u001b[0mtrain_recall4\u001b[0m\u001b[0;34m,\u001b[0m \u001b[0mtrain_precision4\u001b[0m\u001b[0;34m,\u001b[0m \u001b[0mtrain_f1_score4\u001b[0m\u001b[0;34m,\u001b[0m \u001b[0mtrain_accuracy4\u001b[0m \u001b[0;34m=\u001b[0m \u001b[0mcalculate_train_stats\u001b[0m\u001b[0;34m(\u001b[0m\u001b[0mmodel4\u001b[0m\u001b[0;34m,\u001b[0m \u001b[0mtrain_ds\u001b[0m\u001b[0;34m)\u001b[0m\u001b[0;34m\u001b[0m\u001b[0;34m\u001b[0m\u001b[0m\n\u001b[0m\u001b[1;32m      6\u001b[0m \u001b[0mend\u001b[0m \u001b[0;34m=\u001b[0m \u001b[0mtime\u001b[0m\u001b[0;34m.\u001b[0m\u001b[0mtime\u001b[0m\u001b[0;34m(\u001b[0m\u001b[0;34m)\u001b[0m\u001b[0;34m\u001b[0m\u001b[0;34m\u001b[0m\u001b[0m\n\u001b[1;32m      7\u001b[0m \u001b[0mtime4\u001b[0m \u001b[0;34m=\u001b[0m \u001b[0mend\u001b[0m \u001b[0;34m-\u001b[0m \u001b[0mstart\u001b[0m\u001b[0;34m\u001b[0m\u001b[0;34m\u001b[0m\u001b[0m\n",
            "\u001b[0;32m<ipython-input-11-809d37c0d22b>\u001b[0m in \u001b[0;36mcalculate_train_stats\u001b[0;34m(model, ds, training, keep_prob)\u001b[0m\n\u001b[1;32m      8\u001b[0m   \u001b[0;32mwhile\u001b[0m \u001b[0mi\u001b[0m \u001b[0;34m<\u001b[0m \u001b[0;36m13000\u001b[0m\u001b[0;34m:\u001b[0m\u001b[0;34m\u001b[0m\u001b[0;34m\u001b[0m\u001b[0m\n\u001b[1;32m      9\u001b[0m     \u001b[0;32mfor\u001b[0m \u001b[0mimages\u001b[0m\u001b[0;34m,\u001b[0m \u001b[0mlabels\u001b[0m \u001b[0;32min\u001b[0m \u001b[0mds\u001b[0m\u001b[0;34m:\u001b[0m\u001b[0;34m\u001b[0m\u001b[0;34m\u001b[0m\u001b[0m\n\u001b[0;32m---> 10\u001b[0;31m       \u001b[0mtrain\u001b[0m\u001b[0;34m(\u001b[0m\u001b[0mmodel\u001b[0m\u001b[0;34m,\u001b[0m \u001b[0mimages\u001b[0m\u001b[0;34m,\u001b[0m \u001b[0mlabels\u001b[0m\u001b[0;34m,\u001b[0m \u001b[0;36m0.001\u001b[0m\u001b[0;34m,\u001b[0m \u001b[0mtraining\u001b[0m\u001b[0;34m,\u001b[0m \u001b[0mkeep_prob\u001b[0m\u001b[0;34m)\u001b[0m\u001b[0;34m\u001b[0m\u001b[0;34m\u001b[0m\u001b[0m\n\u001b[0m\u001b[1;32m     11\u001b[0m       \u001b[0;32mif\u001b[0m \u001b[0mi\u001b[0m \u001b[0;34m%\u001b[0m \u001b[0;36m100\u001b[0m \u001b[0;34m==\u001b[0m \u001b[0;36m0\u001b[0m\u001b[0;34m:\u001b[0m\u001b[0;34m\u001b[0m\u001b[0;34m\u001b[0m\u001b[0m\n\u001b[1;32m     12\u001b[0m         \u001b[0my\u001b[0m\u001b[0;34m,\u001b[0m \u001b[0mt\u001b[0m \u001b[0;34m=\u001b[0m \u001b[0mpredict\u001b[0m\u001b[0;34m(\u001b[0m\u001b[0mmodel\u001b[0m\u001b[0;34m,\u001b[0m \u001b[0mimages\u001b[0m\u001b[0;34m,\u001b[0m \u001b[0mlabels\u001b[0m\u001b[0;34m)\u001b[0m\u001b[0;34m\u001b[0m\u001b[0;34m\u001b[0m\u001b[0m\n",
            "\u001b[0;32m<ipython-input-5-4780fa23d8c3>\u001b[0m in \u001b[0;36mtrain\u001b[0;34m(model, inputs, outputs, l_rate, training, keep_proba)\u001b[0m\n\u001b[1;32m      5\u001b[0m \u001b[0;34m\u001b[0m\u001b[0m\n\u001b[1;32m      6\u001b[0m   \u001b[0mgrads\u001b[0m \u001b[0;34m=\u001b[0m \u001b[0mt\u001b[0m\u001b[0;34m.\u001b[0m\u001b[0mgradient\u001b[0m\u001b[0;34m(\u001b[0m\u001b[0mcurrent_loss\u001b[0m\u001b[0;34m,\u001b[0m \u001b[0mmodel\u001b[0m\u001b[0;34m.\u001b[0m\u001b[0mvariables\u001b[0m\u001b[0;34m)\u001b[0m\u001b[0;34m\u001b[0m\u001b[0;34m\u001b[0m\u001b[0m\n\u001b[0;32m----> 7\u001b[0;31m   \u001b[0mopt\u001b[0m\u001b[0;34m.\u001b[0m\u001b[0mapply_gradients\u001b[0m\u001b[0;34m(\u001b[0m\u001b[0mzip\u001b[0m\u001b[0;34m(\u001b[0m\u001b[0mgrads\u001b[0m\u001b[0;34m,\u001b[0m \u001b[0mmodel\u001b[0m\u001b[0;34m.\u001b[0m\u001b[0mvariables\u001b[0m\u001b[0;34m)\u001b[0m\u001b[0;34m)\u001b[0m\u001b[0;34m\u001b[0m\u001b[0;34m\u001b[0m\u001b[0m\n\u001b[0m",
            "\u001b[0;32m/usr/local/lib/python3.6/dist-packages/tensorflow/python/keras/optimizer_v2/optimizer_v2.py\u001b[0m in \u001b[0;36mapply_gradients\u001b[0;34m(self, grads_and_vars, name, experimental_aggregate_gradients)\u001b[0m\n\u001b[1;32m    602\u001b[0m       \u001b[0;31m# Create iteration if necessary.\u001b[0m\u001b[0;34m\u001b[0m\u001b[0;34m\u001b[0m\u001b[0;34m\u001b[0m\u001b[0m\n\u001b[1;32m    603\u001b[0m       \u001b[0;32mwith\u001b[0m \u001b[0mops\u001b[0m\u001b[0;34m.\u001b[0m\u001b[0minit_scope\u001b[0m\u001b[0;34m(\u001b[0m\u001b[0;34m)\u001b[0m\u001b[0;34m:\u001b[0m\u001b[0;34m\u001b[0m\u001b[0;34m\u001b[0m\u001b[0m\n\u001b[0;32m--> 604\u001b[0;31m         \u001b[0mself\u001b[0m\u001b[0;34m.\u001b[0m\u001b[0m_create_all_weights\u001b[0m\u001b[0;34m(\u001b[0m\u001b[0mvar_list\u001b[0m\u001b[0;34m)\u001b[0m\u001b[0;34m\u001b[0m\u001b[0;34m\u001b[0m\u001b[0m\n\u001b[0m\u001b[1;32m    605\u001b[0m \u001b[0;34m\u001b[0m\u001b[0m\n\u001b[1;32m    606\u001b[0m       \u001b[0;32mif\u001b[0m \u001b[0;32mnot\u001b[0m \u001b[0mgrads_and_vars\u001b[0m\u001b[0;34m:\u001b[0m\u001b[0;34m\u001b[0m\u001b[0;34m\u001b[0m\u001b[0m\n",
            "\u001b[0;32m/usr/local/lib/python3.6/dist-packages/tensorflow/python/keras/optimizer_v2/optimizer_v2.py\u001b[0m in \u001b[0;36m_create_all_weights\u001b[0;34m(self, var_list)\u001b[0m\n\u001b[1;32m    781\u001b[0m     \u001b[0m_\u001b[0m \u001b[0;34m=\u001b[0m \u001b[0mself\u001b[0m\u001b[0;34m.\u001b[0m\u001b[0miterations\u001b[0m\u001b[0;34m\u001b[0m\u001b[0;34m\u001b[0m\u001b[0m\n\u001b[1;32m    782\u001b[0m     \u001b[0mself\u001b[0m\u001b[0;34m.\u001b[0m\u001b[0m_create_hypers\u001b[0m\u001b[0;34m(\u001b[0m\u001b[0;34m)\u001b[0m\u001b[0;34m\u001b[0m\u001b[0;34m\u001b[0m\u001b[0m\n\u001b[0;32m--> 783\u001b[0;31m     \u001b[0mself\u001b[0m\u001b[0;34m.\u001b[0m\u001b[0m_create_slots\u001b[0m\u001b[0;34m(\u001b[0m\u001b[0mvar_list\u001b[0m\u001b[0;34m)\u001b[0m\u001b[0;34m\u001b[0m\u001b[0;34m\u001b[0m\u001b[0m\n\u001b[0m\u001b[1;32m    784\u001b[0m \u001b[0;34m\u001b[0m\u001b[0m\n\u001b[1;32m    785\u001b[0m   \u001b[0;32mdef\u001b[0m \u001b[0m__getattribute__\u001b[0m\u001b[0;34m(\u001b[0m\u001b[0mself\u001b[0m\u001b[0;34m,\u001b[0m \u001b[0mname\u001b[0m\u001b[0;34m)\u001b[0m\u001b[0;34m:\u001b[0m\u001b[0;34m\u001b[0m\u001b[0;34m\u001b[0m\u001b[0m\n",
            "\u001b[0;32m/usr/local/lib/python3.6/dist-packages/tensorflow/python/keras/optimizer_v2/adam.py\u001b[0m in \u001b[0;36m_create_slots\u001b[0;34m(self, var_list)\u001b[0m\n\u001b[1;32m    127\u001b[0m       \u001b[0mself\u001b[0m\u001b[0;34m.\u001b[0m\u001b[0madd_slot\u001b[0m\u001b[0;34m(\u001b[0m\u001b[0mvar\u001b[0m\u001b[0;34m,\u001b[0m \u001b[0;34m'm'\u001b[0m\u001b[0;34m)\u001b[0m\u001b[0;34m\u001b[0m\u001b[0;34m\u001b[0m\u001b[0m\n\u001b[1;32m    128\u001b[0m     \u001b[0;32mfor\u001b[0m \u001b[0mvar\u001b[0m \u001b[0;32min\u001b[0m \u001b[0mvar_list\u001b[0m\u001b[0;34m:\u001b[0m\u001b[0;34m\u001b[0m\u001b[0;34m\u001b[0m\u001b[0m\n\u001b[0;32m--> 129\u001b[0;31m       \u001b[0mself\u001b[0m\u001b[0;34m.\u001b[0m\u001b[0madd_slot\u001b[0m\u001b[0;34m(\u001b[0m\u001b[0mvar\u001b[0m\u001b[0;34m,\u001b[0m \u001b[0;34m'v'\u001b[0m\u001b[0;34m)\u001b[0m\u001b[0;34m\u001b[0m\u001b[0;34m\u001b[0m\u001b[0m\n\u001b[0m\u001b[1;32m    130\u001b[0m     \u001b[0;32mif\u001b[0m \u001b[0mself\u001b[0m\u001b[0;34m.\u001b[0m\u001b[0mamsgrad\u001b[0m\u001b[0;34m:\u001b[0m\u001b[0;34m\u001b[0m\u001b[0;34m\u001b[0m\u001b[0m\n\u001b[1;32m    131\u001b[0m       \u001b[0;32mfor\u001b[0m \u001b[0mvar\u001b[0m \u001b[0;32min\u001b[0m \u001b[0mvar_list\u001b[0m\u001b[0;34m:\u001b[0m\u001b[0;34m\u001b[0m\u001b[0;34m\u001b[0m\u001b[0m\n",
            "\u001b[0;32m/usr/local/lib/python3.6/dist-packages/tensorflow/python/keras/optimizer_v2/optimizer_v2.py\u001b[0m in \u001b[0;36madd_slot\u001b[0;34m(self, var, slot_name, initializer)\u001b[0m\n\u001b[1;32m    849\u001b[0m             \u001b[0mdtype\u001b[0m\u001b[0;34m=\u001b[0m\u001b[0mvar\u001b[0m\u001b[0;34m.\u001b[0m\u001b[0mdtype\u001b[0m\u001b[0;34m,\u001b[0m\u001b[0;34m\u001b[0m\u001b[0;34m\u001b[0m\u001b[0m\n\u001b[1;32m    850\u001b[0m             \u001b[0mtrainable\u001b[0m\u001b[0;34m=\u001b[0m\u001b[0;32mFalse\u001b[0m\u001b[0;34m,\u001b[0m\u001b[0;34m\u001b[0m\u001b[0;34m\u001b[0m\u001b[0m\n\u001b[0;32m--> 851\u001b[0;31m             initial_value=initial_value)\n\u001b[0m\u001b[1;32m    852\u001b[0m       \u001b[0mbackend\u001b[0m\u001b[0;34m.\u001b[0m\u001b[0mtrack_variable\u001b[0m\u001b[0;34m(\u001b[0m\u001b[0mweight\u001b[0m\u001b[0;34m)\u001b[0m\u001b[0;34m\u001b[0m\u001b[0;34m\u001b[0m\u001b[0m\n\u001b[1;32m    853\u001b[0m       \u001b[0mslot_dict\u001b[0m\u001b[0;34m[\u001b[0m\u001b[0mslot_name\u001b[0m\u001b[0;34m]\u001b[0m \u001b[0;34m=\u001b[0m \u001b[0mweight\u001b[0m\u001b[0;34m\u001b[0m\u001b[0;34m\u001b[0m\u001b[0m\n",
            "\u001b[0;32m/usr/local/lib/python3.6/dist-packages/tensorflow/python/ops/variables.py\u001b[0m in \u001b[0;36m__call__\u001b[0;34m(cls, *args, **kwargs)\u001b[0m\n\u001b[1;32m    260\u001b[0m       \u001b[0;32mreturn\u001b[0m \u001b[0mcls\u001b[0m\u001b[0;34m.\u001b[0m\u001b[0m_variable_v1_call\u001b[0m\u001b[0;34m(\u001b[0m\u001b[0;34m*\u001b[0m\u001b[0margs\u001b[0m\u001b[0;34m,\u001b[0m \u001b[0;34m**\u001b[0m\u001b[0mkwargs\u001b[0m\u001b[0;34m)\u001b[0m\u001b[0;34m\u001b[0m\u001b[0;34m\u001b[0m\u001b[0m\n\u001b[1;32m    261\u001b[0m     \u001b[0;32melif\u001b[0m \u001b[0mcls\u001b[0m \u001b[0;32mis\u001b[0m \u001b[0mVariable\u001b[0m\u001b[0;34m:\u001b[0m\u001b[0;34m\u001b[0m\u001b[0;34m\u001b[0m\u001b[0m\n\u001b[0;32m--> 262\u001b[0;31m       \u001b[0;32mreturn\u001b[0m \u001b[0mcls\u001b[0m\u001b[0;34m.\u001b[0m\u001b[0m_variable_v2_call\u001b[0m\u001b[0;34m(\u001b[0m\u001b[0;34m*\u001b[0m\u001b[0margs\u001b[0m\u001b[0;34m,\u001b[0m \u001b[0;34m**\u001b[0m\u001b[0mkwargs\u001b[0m\u001b[0;34m)\u001b[0m\u001b[0;34m\u001b[0m\u001b[0;34m\u001b[0m\u001b[0m\n\u001b[0m\u001b[1;32m    263\u001b[0m     \u001b[0;32melse\u001b[0m\u001b[0;34m:\u001b[0m\u001b[0;34m\u001b[0m\u001b[0;34m\u001b[0m\u001b[0m\n\u001b[1;32m    264\u001b[0m       \u001b[0;32mreturn\u001b[0m \u001b[0msuper\u001b[0m\u001b[0;34m(\u001b[0m\u001b[0mVariableMetaclass\u001b[0m\u001b[0;34m,\u001b[0m \u001b[0mcls\u001b[0m\u001b[0;34m)\u001b[0m\u001b[0;34m.\u001b[0m\u001b[0m__call__\u001b[0m\u001b[0;34m(\u001b[0m\u001b[0;34m*\u001b[0m\u001b[0margs\u001b[0m\u001b[0;34m,\u001b[0m \u001b[0;34m**\u001b[0m\u001b[0mkwargs\u001b[0m\u001b[0;34m)\u001b[0m\u001b[0;34m\u001b[0m\u001b[0;34m\u001b[0m\u001b[0m\n",
            "\u001b[0;32m/usr/local/lib/python3.6/dist-packages/tensorflow/python/ops/variables.py\u001b[0m in \u001b[0;36m_variable_v2_call\u001b[0;34m(cls, initial_value, trainable, validate_shape, caching_device, name, variable_def, dtype, import_scope, constraint, synchronization, aggregation, shape)\u001b[0m\n\u001b[1;32m    254\u001b[0m         \u001b[0msynchronization\u001b[0m\u001b[0;34m=\u001b[0m\u001b[0msynchronization\u001b[0m\u001b[0;34m,\u001b[0m\u001b[0;34m\u001b[0m\u001b[0;34m\u001b[0m\u001b[0m\n\u001b[1;32m    255\u001b[0m         \u001b[0maggregation\u001b[0m\u001b[0;34m=\u001b[0m\u001b[0maggregation\u001b[0m\u001b[0;34m,\u001b[0m\u001b[0;34m\u001b[0m\u001b[0;34m\u001b[0m\u001b[0m\n\u001b[0;32m--> 256\u001b[0;31m         shape=shape)\n\u001b[0m\u001b[1;32m    257\u001b[0m \u001b[0;34m\u001b[0m\u001b[0m\n\u001b[1;32m    258\u001b[0m   \u001b[0;32mdef\u001b[0m \u001b[0m__call__\u001b[0m\u001b[0;34m(\u001b[0m\u001b[0mcls\u001b[0m\u001b[0;34m,\u001b[0m \u001b[0;34m*\u001b[0m\u001b[0margs\u001b[0m\u001b[0;34m,\u001b[0m \u001b[0;34m**\u001b[0m\u001b[0mkwargs\u001b[0m\u001b[0;34m)\u001b[0m\u001b[0;34m:\u001b[0m\u001b[0;34m\u001b[0m\u001b[0;34m\u001b[0m\u001b[0m\n",
            "\u001b[0;32m/usr/local/lib/python3.6/dist-packages/tensorflow/python/ops/variables.py\u001b[0m in \u001b[0;36m<lambda>\u001b[0;34m(**kws)\u001b[0m\n\u001b[1;32m    235\u001b[0m                         shape=None):\n\u001b[1;32m    236\u001b[0m     \u001b[0;34m\"\"\"Call on Variable class. Useful to force the signature.\"\"\"\u001b[0m\u001b[0;34m\u001b[0m\u001b[0;34m\u001b[0m\u001b[0m\n\u001b[0;32m--> 237\u001b[0;31m     \u001b[0mprevious_getter\u001b[0m \u001b[0;34m=\u001b[0m \u001b[0;32mlambda\u001b[0m \u001b[0;34m**\u001b[0m\u001b[0mkws\u001b[0m\u001b[0;34m:\u001b[0m \u001b[0mdefault_variable_creator_v2\u001b[0m\u001b[0;34m(\u001b[0m\u001b[0;32mNone\u001b[0m\u001b[0;34m,\u001b[0m \u001b[0;34m**\u001b[0m\u001b[0mkws\u001b[0m\u001b[0;34m)\u001b[0m\u001b[0;34m\u001b[0m\u001b[0;34m\u001b[0m\u001b[0m\n\u001b[0m\u001b[1;32m    238\u001b[0m     \u001b[0;32mfor\u001b[0m \u001b[0m_\u001b[0m\u001b[0;34m,\u001b[0m \u001b[0mgetter\u001b[0m \u001b[0;32min\u001b[0m \u001b[0mops\u001b[0m\u001b[0;34m.\u001b[0m\u001b[0mget_default_graph\u001b[0m\u001b[0;34m(\u001b[0m\u001b[0;34m)\u001b[0m\u001b[0;34m.\u001b[0m\u001b[0m_variable_creator_stack\u001b[0m\u001b[0;34m:\u001b[0m  \u001b[0;31m# pylint: disable=protected-access\u001b[0m\u001b[0;34m\u001b[0m\u001b[0;34m\u001b[0m\u001b[0m\n\u001b[1;32m    239\u001b[0m       \u001b[0mprevious_getter\u001b[0m \u001b[0;34m=\u001b[0m \u001b[0m_make_getter\u001b[0m\u001b[0;34m(\u001b[0m\u001b[0mgetter\u001b[0m\u001b[0;34m,\u001b[0m \u001b[0mprevious_getter\u001b[0m\u001b[0;34m)\u001b[0m\u001b[0;34m\u001b[0m\u001b[0;34m\u001b[0m\u001b[0m\n",
            "\u001b[0;32m/usr/local/lib/python3.6/dist-packages/tensorflow/python/ops/variable_scope.py\u001b[0m in \u001b[0;36mdefault_variable_creator_v2\u001b[0;34m(next_creator, **kwargs)\u001b[0m\n\u001b[1;32m   2665\u001b[0m       \u001b[0msynchronization\u001b[0m\u001b[0;34m=\u001b[0m\u001b[0msynchronization\u001b[0m\u001b[0;34m,\u001b[0m\u001b[0;34m\u001b[0m\u001b[0;34m\u001b[0m\u001b[0m\n\u001b[1;32m   2666\u001b[0m       \u001b[0maggregation\u001b[0m\u001b[0;34m=\u001b[0m\u001b[0maggregation\u001b[0m\u001b[0;34m,\u001b[0m\u001b[0;34m\u001b[0m\u001b[0;34m\u001b[0m\u001b[0m\n\u001b[0;32m-> 2667\u001b[0;31m       shape=shape)\n\u001b[0m\u001b[1;32m   2668\u001b[0m \u001b[0;34m\u001b[0m\u001b[0m\n\u001b[1;32m   2669\u001b[0m \u001b[0;34m\u001b[0m\u001b[0m\n",
            "\u001b[0;32m/usr/local/lib/python3.6/dist-packages/tensorflow/python/ops/variables.py\u001b[0m in \u001b[0;36m__call__\u001b[0;34m(cls, *args, **kwargs)\u001b[0m\n\u001b[1;32m    262\u001b[0m       \u001b[0;32mreturn\u001b[0m \u001b[0mcls\u001b[0m\u001b[0;34m.\u001b[0m\u001b[0m_variable_v2_call\u001b[0m\u001b[0;34m(\u001b[0m\u001b[0;34m*\u001b[0m\u001b[0margs\u001b[0m\u001b[0;34m,\u001b[0m \u001b[0;34m**\u001b[0m\u001b[0mkwargs\u001b[0m\u001b[0;34m)\u001b[0m\u001b[0;34m\u001b[0m\u001b[0;34m\u001b[0m\u001b[0m\n\u001b[1;32m    263\u001b[0m     \u001b[0;32melse\u001b[0m\u001b[0;34m:\u001b[0m\u001b[0;34m\u001b[0m\u001b[0;34m\u001b[0m\u001b[0m\n\u001b[0;32m--> 264\u001b[0;31m       \u001b[0;32mreturn\u001b[0m \u001b[0msuper\u001b[0m\u001b[0;34m(\u001b[0m\u001b[0mVariableMetaclass\u001b[0m\u001b[0;34m,\u001b[0m \u001b[0mcls\u001b[0m\u001b[0;34m)\u001b[0m\u001b[0;34m.\u001b[0m\u001b[0m__call__\u001b[0m\u001b[0;34m(\u001b[0m\u001b[0;34m*\u001b[0m\u001b[0margs\u001b[0m\u001b[0;34m,\u001b[0m \u001b[0;34m**\u001b[0m\u001b[0mkwargs\u001b[0m\u001b[0;34m)\u001b[0m\u001b[0;34m\u001b[0m\u001b[0;34m\u001b[0m\u001b[0m\n\u001b[0m\u001b[1;32m    265\u001b[0m \u001b[0;34m\u001b[0m\u001b[0m\n\u001b[1;32m    266\u001b[0m \u001b[0;34m\u001b[0m\u001b[0m\n",
            "\u001b[0;32m/usr/local/lib/python3.6/dist-packages/tensorflow/python/ops/resource_variable_ops.py\u001b[0m in \u001b[0;36m__init__\u001b[0;34m(self, initial_value, trainable, collections, validate_shape, caching_device, name, dtype, variable_def, import_scope, constraint, distribute_strategy, synchronization, aggregation, shape)\u001b[0m\n\u001b[1;32m   1583\u001b[0m           \u001b[0maggregation\u001b[0m\u001b[0;34m=\u001b[0m\u001b[0maggregation\u001b[0m\u001b[0;34m,\u001b[0m\u001b[0;34m\u001b[0m\u001b[0;34m\u001b[0m\u001b[0m\n\u001b[1;32m   1584\u001b[0m           \u001b[0mshape\u001b[0m\u001b[0;34m=\u001b[0m\u001b[0mshape\u001b[0m\u001b[0;34m,\u001b[0m\u001b[0;34m\u001b[0m\u001b[0;34m\u001b[0m\u001b[0m\n\u001b[0;32m-> 1585\u001b[0;31m           distribute_strategy=distribute_strategy)\n\u001b[0m\u001b[1;32m   1586\u001b[0m \u001b[0;34m\u001b[0m\u001b[0m\n\u001b[1;32m   1587\u001b[0m   def _init_from_args(self,\n",
            "\u001b[0;32m/usr/local/lib/python3.6/dist-packages/tensorflow/python/ops/resource_variable_ops.py\u001b[0m in \u001b[0;36m_init_from_args\u001b[0;34m(self, initial_value, trainable, collections, caching_device, name, dtype, constraint, synchronization, aggregation, distribute_strategy, shape)\u001b[0m\n\u001b[1;32m   1710\u001b[0m           \u001b[0;32mwith\u001b[0m \u001b[0mops\u001b[0m\u001b[0;34m.\u001b[0m\u001b[0mname_scope\u001b[0m\u001b[0;34m(\u001b[0m\u001b[0;34m\"Initializer\"\u001b[0m\u001b[0;34m)\u001b[0m\u001b[0;34m,\u001b[0m \u001b[0mdevice_context_manager\u001b[0m\u001b[0;34m(\u001b[0m\u001b[0;32mNone\u001b[0m\u001b[0;34m)\u001b[0m\u001b[0;34m:\u001b[0m\u001b[0;34m\u001b[0m\u001b[0;34m\u001b[0m\u001b[0m\n\u001b[1;32m   1711\u001b[0m             \u001b[0;32mif\u001b[0m \u001b[0minit_from_fn\u001b[0m\u001b[0;34m:\u001b[0m\u001b[0;34m\u001b[0m\u001b[0;34m\u001b[0m\u001b[0m\n\u001b[0;32m-> 1712\u001b[0;31m               \u001b[0minitial_value\u001b[0m \u001b[0;34m=\u001b[0m \u001b[0minitial_value\u001b[0m\u001b[0;34m(\u001b[0m\u001b[0;34m)\u001b[0m\u001b[0;34m\u001b[0m\u001b[0;34m\u001b[0m\u001b[0m\n\u001b[0m\u001b[1;32m   1713\u001b[0m             \u001b[0;32mif\u001b[0m \u001b[0misinstance\u001b[0m\u001b[0;34m(\u001b[0m\u001b[0minitial_value\u001b[0m\u001b[0;34m,\u001b[0m \u001b[0mtrackable\u001b[0m\u001b[0;34m.\u001b[0m\u001b[0mCheckpointInitialValue\u001b[0m\u001b[0;34m)\u001b[0m\u001b[0;34m:\u001b[0m\u001b[0;34m\u001b[0m\u001b[0;34m\u001b[0m\u001b[0m\n\u001b[1;32m   1714\u001b[0m               \u001b[0mself\u001b[0m\u001b[0;34m.\u001b[0m\u001b[0m_maybe_initialize_trackable\u001b[0m\u001b[0;34m(\u001b[0m\u001b[0;34m)\u001b[0m\u001b[0;34m\u001b[0m\u001b[0;34m\u001b[0m\u001b[0m\n",
            "\u001b[0;32m/usr/local/lib/python3.6/dist-packages/tensorflow/python/keras/initializers/initializers_v2.py\u001b[0m in \u001b[0;36m__call__\u001b[0;34m(self, shape, dtype, **kwargs)\u001b[0m\n\u001b[1;32m    137\u001b[0m       \u001b[0;34m**\u001b[0m\u001b[0mkwargs\u001b[0m\u001b[0;34m:\u001b[0m \u001b[0mAdditional\u001b[0m \u001b[0mkeyword\u001b[0m \u001b[0marguments\u001b[0m\u001b[0;34m.\u001b[0m\u001b[0;34m\u001b[0m\u001b[0;34m\u001b[0m\u001b[0m\n\u001b[1;32m    138\u001b[0m     \"\"\"\n\u001b[0;32m--> 139\u001b[0;31m     \u001b[0;32mreturn\u001b[0m \u001b[0msuper\u001b[0m\u001b[0;34m(\u001b[0m\u001b[0mZeros\u001b[0m\u001b[0;34m,\u001b[0m \u001b[0mself\u001b[0m\u001b[0;34m)\u001b[0m\u001b[0;34m.\u001b[0m\u001b[0m__call__\u001b[0m\u001b[0;34m(\u001b[0m\u001b[0mshape\u001b[0m\u001b[0;34m,\u001b[0m \u001b[0mdtype\u001b[0m\u001b[0;34m=\u001b[0m\u001b[0m_get_dtype\u001b[0m\u001b[0;34m(\u001b[0m\u001b[0mdtype\u001b[0m\u001b[0;34m)\u001b[0m\u001b[0;34m,\u001b[0m \u001b[0;34m**\u001b[0m\u001b[0mkwargs\u001b[0m\u001b[0;34m)\u001b[0m\u001b[0;34m\u001b[0m\u001b[0;34m\u001b[0m\u001b[0m\n\u001b[0m\u001b[1;32m    140\u001b[0m \u001b[0;34m\u001b[0m\u001b[0m\n\u001b[1;32m    141\u001b[0m \u001b[0;34m\u001b[0m\u001b[0m\n",
            "\u001b[0;31mKeyboardInterrupt\u001b[0m: "
          ]
        }
      ]
    },
    {
      "cell_type": "code",
      "metadata": {
        "id": "zASAiIEqTJDr"
      },
      "source": [
        "print(\"Time = \", time4)\r\n",
        "print(\"Weights amount = \", calculate_num_of_weights(model4.variables))\r\n",
        "print(\"Training Results:\")\r\n",
        "print(\"\\tRecall = %g\" % train_recall4)\r\n",
        "print(\"\\tPrecision = %g\" % train_precision4)\r\n",
        "print(\"\\tF1 Score = %g\" % train_f1_score4)\r\n",
        "print(\"\\taccuracy = %g\" % train_accuracy4)\r\n",
        "print(\"\\nTest Results:\")\r\n",
        "print(\"\\tRecall = %g\" % test_recall4)\r\n",
        "print(\"\\tPrecision = %g\" % test_precision4)\r\n",
        "print(\"\\tF1 Score = %g\" % test_f1_score4)\r\n",
        "print(\"\\taccuracy = %g\" % test_accuracy4)"
      ],
      "execution_count": null,
      "outputs": []
    },
    {
      "cell_type": "markdown",
      "metadata": {
        "id": "6wCQLfotEgzU"
      },
      "source": [
        "## Model 5"
      ]
    },
    {
      "cell_type": "code",
      "metadata": {
        "colab": {
          "background_save": true
        },
        "id": "uxXoCitNEiim"
      },
      "source": [
        "class Model5:\r\n",
        "  def __init__(self):\r\n",
        "    self.w_conv1 = weight_variable([5, 5, 1, 32], name=\"WeightsC1\")  # 32 filters of 5X5X1\r\n",
        "    self.b_conv1 = bias_variable([32], name=\"BiasesC1\")  # every neuron is a filter for 5X5 pixel sub matrix\r\n",
        "    # that means that every 5X5 weights multiplication is summed and added with one bias\r\n",
        "    # Stacking a second convolutional layer\r\n",
        "    # Max pooling layer of 2x2, pic becomes 14x14x32\r\n",
        "    self.w_conv2 = weight_variable([5, 5, 32, 32], name=\"WeightsC2\")  # 64 filters of 5x5x32\r\n",
        "    # takes into account the out put of all 32 filters from the first layer.\r\n",
        "    self.b_conv2 = bias_variable([32], name=\"BiasesC2\")\r\n",
        "    # Stacking a third convolutional layer\r\n",
        "    # Max pooling layer of 2x2, pic becomes 7x7x32\r\n",
        "    self.w_conv3 = weight_variable([5, 5, 32, 64], name=\"WeightsC2\")  # 64 filters of 5x5x32\r\n",
        "    # takes into account the out put of all 32 filters from the first layer.\r\n",
        "    self.b_conv3 = bias_variable([64], name=\"BiasesC2\")\r\n",
        "     # Fully connected layer of 1024 units\r\n",
        "     # Convolution layer with stride 2, pic becomes 4x4x64\r\n",
        "     # Max pooling layer of 2x2, pic becomes 2x2x64\r\n",
        "    self.w_fc1 = weight_variable([2*2*64, 1024], name=\"WeightsFC1\")\r\n",
        "    self.b_fc1 = bias_variable([1024], name=\"BiasesFC1\")\r\n",
        "    # Final layer - softmax\r\n",
        "    self.w_fc2 = weight_variable([1024, 10], name=\"WeightsFC2\")\r\n",
        "    self.b_fc2 = bias_variable([10], name=\"BiasesFC2\")\r\n",
        "    self.variables = [self.w_conv1, self.w_conv2, self.w_fc1, self.w_fc2,self.w_conv3, self.b_conv1, self.b_conv2, self.b_conv3, self.b_fc1, self.b_fc2]\r\n",
        "   \r\n",
        "  def __call__(self, x, training, keep_proba=None):\r\n",
        "    x = tf.reshape(x, [-1, 28, 28, 1])  # input layer 28x28x1\r\n",
        "    # -1 means: compute that dim so other dims will remain as defined.\r\n",
        "    h_covn1 = tf.nn.relu(conv2d(x, self.w_conv1) + self.b_conv1)\r\n",
        "    h_pool1 = max_pooling_2x2(h_covn1)\r\n",
        "    h_conv2 = tf.nn.relu(conv2d(h_pool1, self.w_conv2) + self.b_conv2)\r\n",
        "    h_pool2 = max_pooling_2x2(h_conv2)\r\n",
        "    h_conv3 = tf.nn.relu(conv2d(h_pool2, self.w_conv3, 2) + self.b_conv3)\r\n",
        "    h_pool3 = max_pooling_2x2(h_conv3)\r\n",
        "    # Max pooling layer of 2x2, pic becomes 7x7x64\r\n",
        "    h_pool3_flat = tf.reshape(h_pool3, [-1, 2*2*64])  \r\n",
        "    # -1 means: compute that dim so other dims will remain as defined.\r\n",
        "    h_fc1 = tf.nn.relu(tf.matmul(h_pool3_flat, self.w_fc1) + self.b_fc1)  \r\n",
        "    # Dropout\r\n",
        "    if training:\r\n",
        "      rate = 1 - keep_proba\r\n",
        "      h_fc1 = tf.nn.dropout(h_fc1, rate=rate)\r\n",
        "    return tf.matmul(h_fc1, self.w_fc2) + self.b_fc2    "
      ],
      "execution_count": null,
      "outputs": []
    },
    {
      "cell_type": "code",
      "metadata": {
        "colab": {
          "background_save": true
        },
        "id": "qPHbksqeKJab"
      },
      "source": [
        "start = time.time()\r\n",
        "model5 = Model5()\r\n",
        "keep_prob = 0.5\r\n",
        "\r\n",
        "# Calculate Recall, Precision, F1_Score, Accuracy of Traning data\r\n",
        "train_recall5, train_precision5, train_f1_score5, train_accuracy5 = calculate_train_stats(model5, train_ds, True, keep_prob)\r\n",
        "end = time.time()\r\n",
        "time5 = end - start\r\n",
        "\r\n",
        "# Calculate Recall, Precision, F1_Score, Accuracy of Test data\r\n",
        "test_recall5, test_precision5, test_f1_score5, test_accuracy5 = calculate_test_stats(model5, test_ds)"
      ],
      "execution_count": null,
      "outputs": []
    },
    {
      "cell_type": "code",
      "metadata": {
        "colab": {
          "background_save": true
        },
        "id": "ekGI2nD6KgCA"
      },
      "source": [
        "print(\"Time = \", time5)\r\n",
        "print(\"Weights amount = \", calculate_num_of_weights(model5.variables))\r\n",
        "print(\"Training Results:\")\r\n",
        "print(\"\\tRecall = %g\" % train_recall5)\r\n",
        "print(\"\\tPrecision = %g\" % train_precision5)\r\n",
        "print(\"\\tF1 Score = %g\" % train_f1_score5)\r\n",
        "print(\"\\taccuracy = %g\" % train_accuracy5)\r\n",
        "print(\"\\nTest Results:\")\r\n",
        "print(\"\\tRecall = %g\" % test_recall5)\r\n",
        "print(\"\\tPrecision = %g\" % test_precision5)\r\n",
        "print(\"\\tF1 Score = %g\" % test_f1_score5)\r\n",
        "print(\"\\taccuracy = %g\" % test_accuracy5)"
      ],
      "execution_count": null,
      "outputs": []
    },
    {
      "cell_type": "markdown",
      "metadata": {
        "id": "HO5FRr0Ll2ct"
      },
      "source": [
        "## Model 6"
      ]
    },
    {
      "cell_type": "code",
      "metadata": {
        "id": "FyKlLF4wl-Nn"
      },
      "source": [
        "large_train_ds = tf.data.Dataset.from_tensor_slices((x_train, t_train)).shuffle(10000).batch(100)\r\n",
        "large_test_ds = tf.data.Dataset.from_tensor_slices((x_test_images, t_test)).batch(100)"
      ],
      "execution_count": null,
      "outputs": []
    },
    {
      "cell_type": "code",
      "metadata": {
        "id": "gFpZd9paml9Y"
      },
      "source": [
        "start = time.time()\r\n",
        "model6 = Model5()\r\n",
        "keep_prob = 0.5\r\n",
        "\r\n",
        "# Calculate Recall, Precision, F1_Score, Accuracy of Traning data\r\n",
        "train_recall6, train_precision6, train_f1_score6, train_accuracy6 = calculate_train_stats(model6, large_train_ds, True, keep_prob)\r\n",
        "end = time.time()\r\n",
        "time6 = end - start\r\n",
        "\r\n",
        "# Calculate Recall, Precision, F1_Score, Accuracy of Test data\r\n",
        "test_recall6, test_precision6, test_f1_score6, test_accuracy6 = calculate_test_stats(model6, large_test_ds)"
      ],
      "execution_count": null,
      "outputs": []
    },
    {
      "cell_type": "code",
      "metadata": {
        "id": "ymj45CSDm-Bf"
      },
      "source": [
        "print(\"Time = \", time6)\r\n",
        "print(\"Weights amount = \", calculate_num_of_weights(model6.variables))\r\n",
        "print(\"Training Results:\")\r\n",
        "print(\"\\tRecall = %g\" % train_recall6)\r\n",
        "print(\"\\tPrecision = %g\" % train_precision6)\r\n",
        "print(\"\\tF1 Score = %g\" % train_f1_score6)\r\n",
        "print(\"\\taccuracy = %g\" % train_accuracy6)\r\n",
        "print(\"\\nTest Results:\")\r\n",
        "print(\"\\tRecall = %g\" % test_recall6)\r\n",
        "print(\"\\tPrecision = %g\" % test_precision6)\r\n",
        "print(\"\\tF1 Score = %g\" % test_f1_score6)\r\n",
        "print(\"\\taccuracy = %g\" % test_accuracy6)"
      ],
      "execution_count": null,
      "outputs": []
    },
    {
      "cell_type": "markdown",
      "metadata": {
        "id": "PP9vvgJ4UYKc"
      },
      "source": [
        "# -----------------------------------------------------------------------------"
      ]
    },
    {
      "cell_type": "code",
      "metadata": {
        "id": "nsm_22SnLVI_"
      },
      "source": [
        "import time\n",
        "model = Model1()\n",
        "num_epochs = 5\n",
        "start = time.time()\n",
        "i = 0\n",
        "while i < 13000:\n",
        "  for images, labels in train_ds:\n",
        "    cross_entropy = loss(model(images), labels)\n",
        "    print(cross_entropy.numpy())\n",
        "    train(model, images, labels, 0.0001)\n",
        "    i += 1\n",
        "    if i > 13000:\n",
        "      break\n",
        "\n",
        "end = time.time()\n",
        "print(\"Final train CE: \", loss(model(images), labels).numpy())\n",
        "print(end-start)"
      ],
      "execution_count": null,
      "outputs": []
    },
    {
      "cell_type": "code",
      "metadata": {
        "id": "q63Ukbw9Lo0h"
      },
      "source": [
        "def test(model, inputs, labels):\n",
        "  # tf.math.argmax 2nd argument = 1 means row axis. defualt value search for max in column axis.\n",
        "  correct_prediction = tf.equal(tf.math.argmax(model(inputs), 1), tf.math.argmax(labels, 1)) \n",
        "  accuracy = tf.reduce_mean(tf.cast(correct_prediction, tf.float32))\n",
        "  return accuracy"
      ],
      "execution_count": null,
      "outputs": []
    },
    {
      "cell_type": "code",
      "metadata": {
        "id": "w4PR-zCcM7Bb"
      },
      "source": [
        "import matplotlib.pyplot as plt\n",
        "# import time\n",
        "# accuracies = []\n",
        "# for images, labels in test_ds:\n",
        "#   accuracies.append(test(model, images, labels))\n",
        "# # print(accuracies)\n",
        "# acc = tf.reduce_mean(accuracies).numpy()\n",
        "# print(acc)\n",
        "\n",
        "\n",
        "# print(x_train_images)\n",
        "i = 20\n",
        "imgplot = plt.imshow(x_test_images[i])\n",
        "print(t_test[i])\n",
        "print(model1(x_test_images[i], False))\n",
        "print(tf.math.argmax(model1(x_test_images[i], False), 1))"
      ],
      "execution_count": null,
      "outputs": []
    },
    {
      "cell_type": "code",
      "metadata": {
        "id": "ZpP8_QH0M-YS"
      },
      "source": [
        ""
      ],
      "execution_count": null,
      "outputs": []
    }
  ]
}