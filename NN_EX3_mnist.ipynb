{
  "nbformat": 4,
  "nbformat_minor": 0,
  "metadata": {
    "accelerator": "GPU",
    "colab": {
      "name": "NN_EX3-mnist.ipynb",
      "provenance": [],
      "collapsed_sections": [],
      "authorship_tag": "ABX9TyPxTMxFBj9sucYmyIwNpAzH",
      "include_colab_link": true
    },
    "kernelspec": {
      "display_name": "Python 3",
      "name": "python3"
    }
  },
  "cells": [
    {
      "cell_type": "markdown",
      "metadata": {
        "id": "view-in-github",
        "colab_type": "text"
      },
      "source": [
        "<a href=\"https://colab.research.google.com/github/TomerDwek/Neural-Networks/blob/main/NN_EX3_mnist.ipynb\" target=\"_parent\"><img src=\"https://colab.research.google.com/assets/colab-badge.svg\" alt=\"Open In Colab\"/></a>"
      ]
    },
    {
      "cell_type": "code",
      "metadata": {
        "colab": {
          "base_uri": "https://localhost:8080/"
        },
        "id": "ggxDZmVSPeF4",
        "outputId": "b2ec7ec1-1b48-4449-b3c6-4e0450be8f84"
      },
      "source": [
        "%tensorflow_version 2.x\r\n",
        "import tensorflow as tf\r\n",
        "device_name = tf.test.gpu_device_name()\r\n",
        "if device_name != '/device:GPU:0':\r\n",
        "  raise SystemError('GPU device not found')\r\n",
        "print('Found GPU at: {}'.format(device_name))"
      ],
      "execution_count": null,
      "outputs": [
        {
          "output_type": "stream",
          "text": [
            "Found GPU at: /device:GPU:0\n"
          ],
          "name": "stdout"
        }
      ]
    },
    {
      "cell_type": "code",
      "metadata": {
        "id": "8b9IIxjsHukn"
      },
      "source": [
        "%tensorflow_version 2.x\n",
        "import tensorflow as tf\n",
        "import numpy as np\n",
        "import time\n",
        "from sklearn import metrics\n",
        "from sklearn.model_selection import train_test_split\n",
        "import matplotlib.pyplot as plt"
      ],
      "execution_count": null,
      "outputs": []
    },
    {
      "cell_type": "code",
      "metadata": {
        "id": "thtSmAXZHyJN",
        "colab": {
          "base_uri": "https://localhost:8080/"
        },
        "outputId": "9ffafd0a-b27f-4029-baac-b83e1f08638c"
      },
      "source": [
        "mnist = tf.keras.datasets.mnist\n",
        "(x_train, t_train), (x_test, t_test) = mnist.load_data()\n",
        "\n",
        "x_train, x_val, t_train, t_val = train_test_split(x_train, t_train, test_size=0.20, random_state=2)\n",
        "\n",
        "x_train, x_val, x_test_images = tf.cast(x_train / 255.0, tf.float32), tf.cast(x_val / 255.0, tf.float32), tf.cast(x_test / 255.0, tf.float32) # normalize\n",
        "t_test, t_train, t_val = tf.one_hot(t_test, 10),  tf.one_hot(t_train, 10), tf.one_hot(t_val, 10)\n",
        "train_ds = tf.data.Dataset.from_tensor_slices((x_train, t_train)).shuffle(10000).batch(50)\n",
        "val_ds = tf.data.Dataset.from_tensor_slices((x_val, t_val)).shuffle(10000).batch(50)\n",
        "test_ds = tf.data.Dataset.from_tensor_slices((x_test_images, t_test)).batch(50)"
      ],
      "execution_count": null,
      "outputs": [
        {
          "output_type": "stream",
          "text": [
            "Downloading data from https://storage.googleapis.com/tensorflow/tf-keras-datasets/mnist.npz\n",
            "11493376/11490434 [==============================] - 0s 0us/step\n"
          ],
          "name": "stdout"
        }
      ]
    },
    {
      "cell_type": "code",
      "metadata": {
        "id": "UaNUTM1zMHTY"
      },
      "source": [
        "def loss (y, t):\n",
        "  return tf.reduce_mean(tf.nn.softmax_cross_entropy_with_logits(labels=t, logits=y))"
      ],
      "execution_count": null,
      "outputs": []
    },
    {
      "cell_type": "code",
      "metadata": {
        "id": "nvYbVXLhTLnG"
      },
      "source": [
        "def train(model, inputs, outputs, l_rate, training=False, keep_proba=None):\n",
        "  opt = tf.keras.optimizers.Adam(learning_rate=l_rate)\n",
        "  with tf.GradientTape() as t:\n",
        "    current_loss = loss(model(inputs, training, keep_proba), outputs)\n",
        "  \n",
        "  grads = t.gradient(current_loss, model.variables)\n",
        "  opt.apply_gradients(zip(grads, model.variables))"
      ],
      "execution_count": null,
      "outputs": []
    },
    {
      "cell_type": "code",
      "metadata": {
        "id": "Qk-YM6iTPXda"
      },
      "source": [
        "# part 1 setting weights and biases\r\n",
        "def weight_variable(shape, name):\r\n",
        "    initial = tf.random.truncated_normal(shape, stddev=0.1)  \r\n",
        "    return tf.Variable(initial, name=name)\r\n",
        "\r\n",
        "def bias_variable(shape, name):\r\n",
        "    initial = tf.constant(0.1, shape=shape)  # small positive values to prevent dying relus.\r\n",
        "    return tf.Variable(initial,  name=name)\r\n",
        "\r\n",
        "def conv2d(x, w, stride=1):\r\n",
        "    return tf.nn.conv2d(x, w, strides=[1, stride, stride, 1], padding='SAME')\r\n",
        "# zero padding to produce same size layer, stride=1.\r\n",
        "\r\n",
        "\r\n",
        "def max_pooling_2x2(x):\r\n",
        "    return tf.nn.max_pool2d(x, ksize=[1, 2, 2, 1], strides=[1, 2, 2, 1], padding='SAME')\r\n",
        "# max pooling layer, maximize 2x2 window, stride=2"
      ],
      "execution_count": null,
      "outputs": []
    },
    {
      "cell_type": "code",
      "metadata": {
        "id": "KPbE1mpV9wcE"
      },
      "source": [
        "def predict(model, x, t, training=False, keep_prob=None):\r\n",
        "  y = model(x, training, keep_prob)\r\n",
        "  y = tf.argmax(y, 1)\r\n",
        "  t = tf.argmax(t, 1)\r\n",
        "  return y, t"
      ],
      "execution_count": null,
      "outputs": []
    },
    {
      "cell_type": "code",
      "metadata": {
        "id": "VpognNxzw7C1"
      },
      "source": [
        "def recall(y, t, labels):\r\n",
        "  return tf.reduce_mean(metrics.recall_score(t, y, labels, average=None, zero_division=0)).numpy()\r\n",
        "  \r\n",
        "def precision(y, t, labels):\r\n",
        "  return tf.reduce_mean(metrics.precision_score(t, y, labels, average=None, zero_division=0)).numpy()\r\n",
        "\r\n",
        "def F1_score(y, t, labels):\r\n",
        "  return tf.reduce_mean(metrics.f1_score(t, y, labels, average=None, zero_division=0)).numpy()\r\n",
        "\r\n",
        "def accuracy(y, t):\r\n",
        "  # Train and evaluate\r\n",
        "  correct_prediciton = tf.equal(tf.argmax(y, 1), tf.argmax(t, 1))\r\n",
        "  return tf.reduce_mean(tf.cast(correct_prediciton, tf.float32))\r\n"
      ],
      "execution_count": null,
      "outputs": []
    },
    {
      "cell_type": "code",
      "metadata": {
        "id": "rFHM1Xm1edMG"
      },
      "source": [
        "lbl = [0, 1, 2, 3, 4, 5, 6, 7, 8, 9]"
      ],
      "execution_count": null,
      "outputs": []
    },
    {
      "cell_type": "code",
      "metadata": {
        "id": "h0BYg4Kti7Hk"
      },
      "source": [
        "def calculate_train_stats(model, ds, training=False, keep_prob=None, timer=False):\r\n",
        "  timer = time.time()\r\n",
        "  train_recalls = []\r\n",
        "  train_precisions = []\r\n",
        "  train_F1_scores = []\r\n",
        "  train_accuracies = []\r\n",
        "  iter = 0\r\n",
        "\r\n",
        "  i = 0\r\n",
        "  while i < 13000:\r\n",
        "    for images, labels in ds:\r\n",
        "      train(model, images, labels, 0.001, training, keep_prob)\r\n",
        "      if time and accuracy(model(images, training=False), labels) >= 0.99 and iter == 0:\r\n",
        "        iter = i\r\n",
        "        iter_time = (iter ,time.time() - timer)\r\n",
        "      if i % 100 == 0:\r\n",
        "        y, t = predict(model, images, labels)\r\n",
        "        train_recalls.append(recall(y, t, lbl))\r\n",
        "        train_precisions.append(precision(y, t, lbl))\r\n",
        "        train_F1_scores.append(F1_score(y, t, lbl))\r\n",
        "        train_accuracies.append(accuracy(model(images, training=False), labels))\r\n",
        "        print(\"Step %d, training accuracy %g\" % (i, accuracy(model(images, training=False), labels)))\r\n",
        "      i += 1\r\n",
        "      if i > 13000:\r\n",
        "        break\r\n",
        "\r\n",
        "  train_recall = tf.reduce_mean(train_recalls).numpy()\r\n",
        "  train_precision = tf.reduce_mean(train_precisions).numpy()\r\n",
        "  train_F1_score = tf.reduce_mean(train_F1_scores).numpy()\r\n",
        "  train_accuracy = tf.reduce_mean(train_accuracies).numpy()\r\n",
        "  if iter == 0:\r\n",
        "    iter_time = (None, None)\r\n",
        "  return train_recall, train_precision, train_F1_score, train_accuracy, iter_time"
      ],
      "execution_count": null,
      "outputs": []
    },
    {
      "cell_type": "code",
      "metadata": {
        "id": "ZaDOPWjclypG"
      },
      "source": [
        "def calculate_test_stats(model, ds):\r\n",
        "  test_recalls = []\r\n",
        "  test_precisions = []\r\n",
        "  test_F1_scores = []\r\n",
        "  test_accuracies = []\r\n",
        "\r\n",
        "  for images, labels in ds:\r\n",
        "    y, t = predict(model, images, labels)\r\n",
        "    test_recalls.append(recall(y, t, lbl))\r\n",
        "    test_precisions.append(precision(y, t, lbl))\r\n",
        "    test_F1_scores.append(F1_score(y, t, lbl))\r\n",
        "    test_accuracies.append(accuracy(model(images, training=False), labels))\r\n",
        "\r\n",
        "  # Test Results\r\n",
        "  test_recall = tf.reduce_mean(test_recalls).numpy()\r\n",
        "  test_precision = tf.reduce_mean(test_precisions).numpy()\r\n",
        "  test_F1_score = tf.reduce_mean(test_F1_scores).numpy()\r\n",
        "  test_accuracy = tf.reduce_mean(test_accuracies).numpy()\r\n",
        "  \r\n",
        "  return test_recall, test_precision, test_F1_score, test_accuracy"
      ],
      "execution_count": null,
      "outputs": []
    },
    {
      "cell_type": "code",
      "metadata": {
        "id": "vWCAKYwAucnx"
      },
      "source": [
        "def calculate_num_of_weights(variables):\r\n",
        "  sum = 0\r\n",
        "  for var in variables:\r\n",
        "    sum += tf.size(var).numpy()\r\n",
        "  return sum"
      ],
      "execution_count": null,
      "outputs": []
    },
    {
      "cell_type": "code",
      "metadata": {
        "id": "QHA7B3E0Sdha"
      },
      "source": [
        "def visualize(model, image, layerNum, chanelNum, activ=False):\r\n",
        "  image = tf.reshape(image, [1, 28, 28, 1])\r\n",
        "\r\n",
        "  layer = model.w_conv1\r\n",
        "  bias = model.b_conv1\r\n",
        "  if layerNum == 1:\r\n",
        "    if activ:\r\n",
        "      return tf.nn.relu(conv2d(image, layer) + bias)[0, :, :, chanelNum]\r\n",
        "    return conv2d(image, layer)[0, :, :, chanelNum]\r\n",
        "\r\n",
        "  if layerNum > 1:\r\n",
        "    image = tf.nn.relu(conv2d(image, layer) + bias)\r\n",
        "    layer = model.w_conv2\r\n",
        "    bias = model.b_conv2\r\n",
        "    if layerNum == 2:\r\n",
        "      if activ:\r\n",
        "        return tf.nn.relu(conv2d(image, layer) + bias)[0, :, :, chanelNum]\r\n",
        "      return conv2d(image, layer)[0, :, :, chanelNum]\r\n",
        "\r\n",
        "  if layerNum == 3:\r\n",
        "    image = tf.nn.relu(conv2d(image, layer) + bias)\r\n",
        "    layer = model.w_conv3\r\n",
        "    bias = model.b_conv3\r\n",
        "    if activ:\r\n",
        "      return tf.nn.relu(conv2d(image, layer) + bias)[0, :, :, chanelNum]\r\n",
        "    return conv2d(image, layer)[0, :, :, chanelNum]\r\n",
        "  return None"
      ],
      "execution_count": null,
      "outputs": []
    },
    {
      "cell_type": "code",
      "metadata": {
        "id": "z1sKZyo9htY9"
      },
      "source": [
        "def show_visualizations(model, n_rows, n_cols, n_images, ds):\r\n",
        "  plt.figure()\r\n",
        "  f, axarr = plt.subplots(nrows=n_rows,ncols=n_cols, figsize=(8,8)) \r\n",
        "  if n_rows * n_cols > n_images:\r\n",
        "    f.delaxes(axarr[n_rows-1][n_cols-1])\r\n",
        "  for i in range(n_rows):\r\n",
        "    for j in range(n_cols):\r\n",
        "      p = visualize(model6, x_test_images[i * axarr.shape[1] + j + np.random.randint(low=0,high=ds.shape[0])], ((i + j) % 3 + 1), 25)\r\n",
        "      axarr[i,j].imshow(p)\r\n",
        "  plt.show()"
      ],
      "execution_count": null,
      "outputs": []
    },
    {
      "cell_type": "code",
      "metadata": {
        "id": "M32n1hzmiEYc"
      },
      "source": [
        "def show_convolutions(model, n_rows, n_cols, ds):\r\n",
        "  plt.figure()\r\n",
        "  f, axarr = plt.subplots(nrows=2,ncols=2, figsize=(8,8)) \r\n",
        "  img_num = np.random.randint(low=0,high=ds.shape[0])\r\n",
        "  for i in range(n_rows):\r\n",
        "    for j in range(n_cols):\r\n",
        "      if j == 0:\r\n",
        "        p = visualize(model3, x_train[img_num], i+1, 25)\r\n",
        "      else:\r\n",
        "        p = visualize(model3, x_train[img_num], i+1, 25, True)\r\n",
        "      axarr[i,j].imshow(p)\r\n",
        "  plt.show()"
      ],
      "execution_count": null,
      "outputs": []
    },
    {
      "cell_type": "markdown",
      "metadata": {
        "id": "iyKgWrJEPKAA"
      },
      "source": [
        "## Model 1\r\n",
        "Logistic regression network without hidden layers"
      ]
    },
    {
      "cell_type": "code",
      "metadata": {
        "id": "1O7IyAboIWoE"
      },
      "source": [
        "class Model1:\n",
        "  def __init__(self):\n",
        "    self.w1 = tf.Variable(tf.zeros([784, 10]), name=\"Weights1\") # 28*28=784\n",
        "    self.b1 = tf.Variable(tf.zeros([10]) + 0.1, name=\"Biases1\") # 0.1 for dying relus\n",
        "    self.variables = [self.w1, self.b1]\n",
        "\n",
        "  def __call__(self, x, training=False, keep_prob=None):\n",
        "    x = tf.reshape(x , [-1, 28 * 28])\n",
        "    return tf.nn.relu(tf.matmul(x, self.w1) + self.b1)"
      ],
      "execution_count": null,
      "outputs": []
    },
    {
      "cell_type": "code",
      "metadata": {
        "colab": {
          "base_uri": "https://localhost:8080/"
        },
        "id": "pZhYT1HrNSS4",
        "outputId": "ec1f13e6-965d-4c00-d476-add6f37d27bc"
      },
      "source": [
        "start = time.time()\r\n",
        "model1 = Model1()\r\n",
        "\r\n",
        "# Calculate Recall, Precision, F1_Score, Accuracy of Traning data\r\n",
        "train_recall1, train_precision1, train_f1_score1, train_accuracy1, iter_time1 = calculate_train_stats(model1, train_ds)\r\n",
        "end = time.time()\r\n",
        "time1 = end - start\r\n",
        "\r\n",
        "# Calculate Recall, Precision, F1_Score, Accuracy of Validation data\r\n",
        "val_recall1, val_precision1, val_f1_score1, val_accuracy1 = calculate_test_stats(model1, val_ds)\r\n",
        "\r\n",
        "# Calculate Recall, Precision, F1_Score, Accuracy of Test data\r\n",
        "test_recall1, test_precision1, test_f1_score1, test_accuracy1 = calculate_test_stats(model1, test_ds)"
      ],
      "execution_count": null,
      "outputs": [
        {
          "output_type": "stream",
          "text": [
            "Step 0, training accuracy 0.62\n",
            "Step 100, training accuracy 0.86\n",
            "Step 200, training accuracy 0.86\n",
            "Step 300, training accuracy 0.9\n",
            "Step 400, training accuracy 0.86\n",
            "Step 500, training accuracy 0.82\n",
            "Step 600, training accuracy 0.84\n",
            "Step 700, training accuracy 0.94\n",
            "Step 800, training accuracy 0.82\n",
            "Step 900, training accuracy 0.94\n",
            "Step 1000, training accuracy 0.84\n",
            "Step 1100, training accuracy 0.88\n",
            "Step 1200, training accuracy 0.88\n",
            "Step 1300, training accuracy 0.92\n",
            "Step 1400, training accuracy 0.9\n",
            "Step 1500, training accuracy 0.9\n",
            "Step 1600, training accuracy 0.92\n",
            "Step 1700, training accuracy 0.96\n",
            "Step 1800, training accuracy 0.82\n",
            "Step 1900, training accuracy 0.9\n",
            "Step 2000, training accuracy 0.82\n",
            "Step 2100, training accuracy 0.78\n",
            "Step 2200, training accuracy 0.84\n",
            "Step 2300, training accuracy 0.96\n",
            "Step 2400, training accuracy 0.8\n",
            "Step 2500, training accuracy 0.88\n",
            "Step 2600, training accuracy 0.88\n",
            "Step 2700, training accuracy 0.9\n",
            "Step 2800, training accuracy 0.88\n",
            "Step 2900, training accuracy 0.94\n",
            "Step 3000, training accuracy 0.94\n",
            "Step 3100, training accuracy 0.84\n",
            "Step 3200, training accuracy 0.84\n",
            "Step 3300, training accuracy 0.92\n",
            "Step 3400, training accuracy 0.92\n",
            "Step 3500, training accuracy 0.9\n",
            "Step 3600, training accuracy 0.96\n",
            "Step 3700, training accuracy 0.94\n",
            "Step 3800, training accuracy 0.84\n",
            "Step 3900, training accuracy 0.98\n",
            "Step 4000, training accuracy 0.94\n",
            "Step 4100, training accuracy 0.92\n",
            "Step 4200, training accuracy 0.92\n",
            "Step 4300, training accuracy 0.9\n",
            "Step 4400, training accuracy 0.88\n",
            "Step 4500, training accuracy 0.88\n",
            "Step 4600, training accuracy 0.92\n",
            "Step 4700, training accuracy 0.96\n",
            "Step 4800, training accuracy 0.9\n",
            "Step 4900, training accuracy 0.92\n",
            "Step 5000, training accuracy 0.86\n",
            "Step 5100, training accuracy 0.88\n",
            "Step 5200, training accuracy 0.92\n",
            "Step 5300, training accuracy 0.9\n",
            "Step 5400, training accuracy 0.9\n",
            "Step 5500, training accuracy 0.96\n",
            "Step 5600, training accuracy 0.9\n",
            "Step 5700, training accuracy 0.82\n",
            "Step 5800, training accuracy 0.84\n",
            "Step 5900, training accuracy 0.9\n",
            "Step 6000, training accuracy 0.96\n",
            "Step 6100, training accuracy 0.84\n",
            "Step 6200, training accuracy 0.86\n",
            "Step 6300, training accuracy 0.86\n",
            "Step 6400, training accuracy 0.8\n",
            "Step 6500, training accuracy 0.8\n",
            "Step 6600, training accuracy 0.86\n",
            "Step 6700, training accuracy 0.86\n",
            "Step 6800, training accuracy 0.88\n",
            "Step 6900, training accuracy 0.9\n",
            "Step 7000, training accuracy 0.94\n",
            "Step 7100, training accuracy 0.98\n",
            "Step 7200, training accuracy 0.92\n",
            "Step 7300, training accuracy 0.94\n",
            "Step 7400, training accuracy 0.9\n",
            "Step 7500, training accuracy 0.88\n",
            "Step 7600, training accuracy 0.88\n",
            "Step 7700, training accuracy 0.92\n",
            "Step 7800, training accuracy 0.92\n",
            "Step 7900, training accuracy 0.94\n",
            "Step 8000, training accuracy 0.94\n",
            "Step 8100, training accuracy 0.94\n",
            "Step 8200, training accuracy 0.92\n",
            "Step 8300, training accuracy 0.9\n",
            "Step 8400, training accuracy 0.94\n",
            "Step 8500, training accuracy 0.96\n",
            "Step 8600, training accuracy 0.9\n",
            "Step 8700, training accuracy 0.8\n",
            "Step 8800, training accuracy 0.94\n",
            "Step 8900, training accuracy 0.84\n",
            "Step 9000, training accuracy 0.88\n",
            "Step 9100, training accuracy 0.98\n",
            "Step 9200, training accuracy 0.88\n",
            "Step 9300, training accuracy 0.92\n",
            "Step 9400, training accuracy 0.9\n",
            "Step 9500, training accuracy 0.86\n",
            "Step 9600, training accuracy 0.94\n",
            "Step 9700, training accuracy 0.86\n",
            "Step 9800, training accuracy 0.96\n",
            "Step 9900, training accuracy 0.94\n",
            "Step 10000, training accuracy 0.9\n",
            "Step 10100, training accuracy 0.96\n",
            "Step 10200, training accuracy 0.84\n",
            "Step 10300, training accuracy 0.8\n",
            "Step 10400, training accuracy 0.9\n",
            "Step 10500, training accuracy 0.9\n",
            "Step 10600, training accuracy 0.96\n",
            "Step 10700, training accuracy 0.9\n",
            "Step 10800, training accuracy 0.92\n",
            "Step 10900, training accuracy 0.88\n",
            "Step 11000, training accuracy 1\n",
            "Step 11100, training accuracy 0.86\n",
            "Step 11200, training accuracy 0.94\n",
            "Step 11300, training accuracy 0.92\n",
            "Step 11400, training accuracy 0.92\n",
            "Step 11500, training accuracy 0.9\n",
            "Step 11600, training accuracy 0.92\n",
            "Step 11700, training accuracy 0.78\n",
            "Step 11800, training accuracy 0.94\n",
            "Step 11900, training accuracy 0.92\n",
            "Step 12000, training accuracy 0.82\n",
            "Step 12100, training accuracy 0.96\n",
            "Step 12200, training accuracy 0.92\n",
            "Step 12300, training accuracy 0.88\n",
            "Step 12400, training accuracy 0.86\n",
            "Step 12500, training accuracy 0.88\n",
            "Step 12600, training accuracy 0.94\n",
            "Step 12700, training accuracy 0.88\n",
            "Step 12800, training accuracy 0.92\n",
            "Step 12900, training accuracy 0.92\n",
            "Step 13000, training accuracy 0.94\n"
          ],
          "name": "stdout"
        }
      ]
    },
    {
      "cell_type": "code",
      "metadata": {
        "id": "b4U4pIHRsp3c",
        "colab": {
          "base_uri": "https://localhost:8080/"
        },
        "outputId": "71558a71-452a-4b73-a656-dcf17e51c368"
      },
      "source": [
        "print(\"Time = \", time1)\r\n",
        "print(\"Weights amount = \", calculate_num_of_weights(model1.variables))\r\n",
        "print(\"Training Results:\")\r\n",
        "print(\"\\tRecall = %g\" % train_recall1)\r\n",
        "print(\"\\tPrecision = %g\" % train_precision1)\r\n",
        "print(\"\\tF1 Score = %g\" % train_f1_score1)\r\n",
        "print(\"\\taccuracy = %g\" % train_accuracy1)\r\n",
        "print(\"\\nValidation Results:\")\r\n",
        "print(\"\\tRecall = %g\" % val_recall1)\r\n",
        "print(\"\\tPrecision = %g\" % val_precision1)\r\n",
        "print(\"\\tF1 Score = %g\" % val_f1_score1)\r\n",
        "print(\"\\taccuracy = %g\" % val_accuracy1)\r\n",
        "print(\"\\nTest Results:\")\r\n",
        "print(\"\\tRecall = %g\" % test_recall1)\r\n",
        "print(\"\\tPrecision = %g\" % test_precision1)\r\n",
        "print(\"\\tF1 Score = %g\" % test_f1_score1)\r\n",
        "print(\"\\taccuracy = %g\" % test_accuracy1)"
      ],
      "execution_count": null,
      "outputs": [
        {
          "output_type": "stream",
          "text": [
            "Time =  123.40303230285645\n",
            "Weights amount =  7850\n",
            "Training Results:\n",
            "\tRecall = 0.888387\n",
            "\tPrecision = 0.888396\n",
            "\tF1 Score = 0.875221\n",
            "\taccuracy = 0.894504\n",
            "\n",
            "Validation Results:\n",
            "\tRecall = 0.895759\n",
            "\tPrecision = 0.897361\n",
            "\tF1 Score = 0.884355\n",
            "\taccuracy = 0.905\n",
            "\n",
            "Test Results:\n",
            "\tRecall = 0.904367\n",
            "\tPrecision = 0.907867\n",
            "\tF1 Score = 0.894033\n",
            "\taccuracy = 0.9103\n"
          ],
          "name": "stdout"
        }
      ]
    },
    {
      "cell_type": "markdown",
      "metadata": {
        "id": "r0HfozOGPPYE"
      },
      "source": [
        "## Model 2\r\n",
        "Logistis regression network with 2 fully connected hidden layers of 200 neurons"
      ]
    },
    {
      "cell_type": "code",
      "metadata": {
        "id": "2O068QeoSSbN"
      },
      "source": [
        "class Model2:\n",
        "  def __init__(self):\n",
        "    self.w1 = tf.Variable(tf.zeros([784, 200]), name=\"Weights1\") # 28*28=784\n",
        "    self.b1 = tf.Variable(tf.zeros([200]) + 0.1, name=\"Biases1\") # 0.1 for dying relus\n",
        "    self.w2 = tf.Variable(tf.zeros([200, 200]), name=\"Weights2\")\n",
        "    self.b2 = tf.Variable(tf.zeros([200]) + 0.1, name=\"Biases2\") # 0.1 for dying relus\n",
        "    self.w3 = tf.Variable(tf.zeros([200, 10]), name=\"Weights2\")\n",
        "    self.b3 = tf.Variable(tf.zeros([10]) + 0.1, name=\"Biases2\") # 0.1 for dying relus\n",
        "    self.variables = [self.w1, self.b1, self.w2, self.b2, self.w3, self.b3]\n",
        "\n",
        "  def __call__(self, x, training=False, keep_prob=None):\n",
        "    x = tf.reshape(x , [-1, 28 * 28])\n",
        "    y1 = tf.matmul(x, self.w1) + self.b1\n",
        "    hidden1 = tf.nn.relu(y1)\n",
        "    y2 = tf.matmul(hidden1, self.w2) + self.b2\n",
        "    hidden2 = tf.nn.relu(y2)\n",
        "    return tf.nn.relu(tf.matmul(hidden2, self.w3) + self.b3)"
      ],
      "execution_count": null,
      "outputs": []
    },
    {
      "cell_type": "code",
      "metadata": {
        "id": "MIBFGYjKSAxH",
        "colab": {
          "base_uri": "https://localhost:8080/"
        },
        "outputId": "56671442-bac6-4f8b-8d90-22e3d7211fa9"
      },
      "source": [
        "start = time.time()\r\n",
        "model2 = Model2()\r\n",
        "\r\n",
        "# Calculate Recall, Precision, F1_Score, Accuracy of Traning data\r\n",
        "train_recall2, train_precision2, train_f1_score2, train_accuracy2, iter_time2 = calculate_train_stats(model2, train_ds)\r\n",
        "end = time.time()\r\n",
        "time2 = end - start\r\n",
        "\r\n",
        "# Calculate Recall, Precision, F1_Score, Accuracy of Validation data\r\n",
        "val_recall2, val_precision2, val_f1_score2, val_accuracy2 = calculate_test_stats(model2, val_ds)\r\n",
        "\r\n",
        "# Calculate Recall, Precision, F1_Score, Accuracy of Test data\r\n",
        "test_recall2, test_precision2, test_f1_score2, test_accuracy2 = calculate_test_stats(model2, test_ds)"
      ],
      "execution_count": null,
      "outputs": [
        {
          "output_type": "stream",
          "text": [
            "Step 0, training accuracy 0.14\n",
            "Step 100, training accuracy 0.26\n",
            "Step 200, training accuracy 0.26\n",
            "Step 300, training accuracy 0.2\n",
            "Step 400, training accuracy 0.12\n",
            "Step 500, training accuracy 0.26\n",
            "Step 600, training accuracy 0.22\n",
            "Step 700, training accuracy 0.3\n",
            "Step 800, training accuracy 0.16\n",
            "Step 900, training accuracy 0.26\n",
            "Step 1000, training accuracy 0.16\n",
            "Step 1100, training accuracy 0.2\n",
            "Step 1200, training accuracy 0.14\n",
            "Step 1300, training accuracy 0.22\n",
            "Step 1400, training accuracy 0.18\n",
            "Step 1500, training accuracy 0.1\n",
            "Step 1600, training accuracy 0.24\n",
            "Step 1700, training accuracy 0.26\n",
            "Step 1800, training accuracy 0.26\n",
            "Step 1900, training accuracy 0.1\n",
            "Step 2000, training accuracy 0.2\n",
            "Step 2100, training accuracy 0.06\n",
            "Step 2200, training accuracy 0.2\n",
            "Step 2300, training accuracy 0.22\n",
            "Step 2400, training accuracy 0.26\n",
            "Step 2500, training accuracy 0.2\n",
            "Step 2600, training accuracy 0.26\n",
            "Step 2700, training accuracy 0.16\n",
            "Step 2800, training accuracy 0.18\n",
            "Step 2900, training accuracy 0.28\n",
            "Step 3000, training accuracy 0.14\n",
            "Step 3100, training accuracy 0.22\n",
            "Step 3200, training accuracy 0.22\n",
            "Step 3300, training accuracy 0.26\n",
            "Step 3400, training accuracy 0.24\n",
            "Step 3500, training accuracy 0.26\n",
            "Step 3600, training accuracy 0.14\n",
            "Step 3700, training accuracy 0.3\n",
            "Step 3800, training accuracy 0.2\n",
            "Step 3900, training accuracy 0.3\n",
            "Step 4000, training accuracy 0.22\n",
            "Step 4100, training accuracy 0.24\n",
            "Step 4200, training accuracy 0.14\n",
            "Step 4300, training accuracy 0.26\n",
            "Step 4400, training accuracy 0.22\n",
            "Step 4500, training accuracy 0.14\n",
            "Step 4600, training accuracy 0.1\n",
            "Step 4700, training accuracy 0.22\n",
            "Step 4800, training accuracy 0.18\n",
            "Step 4900, training accuracy 0.18\n",
            "Step 5000, training accuracy 0.18\n",
            "Step 5100, training accuracy 0.18\n",
            "Step 5200, training accuracy 0.16\n",
            "Step 5300, training accuracy 0.18\n",
            "Step 5400, training accuracy 0.26\n",
            "Step 5500, training accuracy 0.26\n",
            "Step 5600, training accuracy 0.18\n",
            "Step 5700, training accuracy 0.24\n",
            "Step 5800, training accuracy 0.26\n",
            "Step 5900, training accuracy 0.28\n",
            "Step 6000, training accuracy 0.2\n",
            "Step 6100, training accuracy 0.2\n",
            "Step 6200, training accuracy 0.2\n",
            "Step 6300, training accuracy 0.32\n",
            "Step 6400, training accuracy 0.2\n",
            "Step 6500, training accuracy 0.24\n",
            "Step 6600, training accuracy 0.22\n",
            "Step 6700, training accuracy 0.24\n",
            "Step 6800, training accuracy 0.2\n",
            "Step 6900, training accuracy 0.18\n",
            "Step 7000, training accuracy 0.2\n",
            "Step 7100, training accuracy 0.24\n",
            "Step 7200, training accuracy 0.22\n",
            "Step 7300, training accuracy 0.22\n",
            "Step 7400, training accuracy 0.18\n",
            "Step 7500, training accuracy 0.18\n",
            "Step 7600, training accuracy 0.16\n",
            "Step 7700, training accuracy 0.22\n",
            "Step 7800, training accuracy 0.22\n",
            "Step 7900, training accuracy 0.24\n",
            "Step 8000, training accuracy 0.2\n",
            "Step 8100, training accuracy 0.1\n",
            "Step 8200, training accuracy 0.28\n",
            "Step 8300, training accuracy 0.24\n",
            "Step 8400, training accuracy 0.22\n",
            "Step 8500, training accuracy 0.24\n",
            "Step 8600, training accuracy 0.2\n",
            "Step 8700, training accuracy 0.16\n",
            "Step 8800, training accuracy 0.28\n",
            "Step 8900, training accuracy 0.24\n",
            "Step 9000, training accuracy 0.18\n",
            "Step 9100, training accuracy 0.24\n",
            "Step 9200, training accuracy 0.14\n",
            "Step 9300, training accuracy 0.18\n",
            "Step 9400, training accuracy 0.2\n",
            "Step 9500, training accuracy 0.2\n",
            "Step 9600, training accuracy 0.12\n",
            "Step 9700, training accuracy 0.2\n",
            "Step 9800, training accuracy 0.14\n",
            "Step 9900, training accuracy 0.24\n",
            "Step 10000, training accuracy 0.12\n",
            "Step 10100, training accuracy 0.3\n",
            "Step 10200, training accuracy 0.14\n",
            "Step 10300, training accuracy 0.24\n",
            "Step 10400, training accuracy 0.24\n",
            "Step 10500, training accuracy 0.18\n",
            "Step 10600, training accuracy 0.2\n",
            "Step 10700, training accuracy 0.26\n",
            "Step 10800, training accuracy 0.26\n",
            "Step 10900, training accuracy 0.16\n",
            "Step 11000, training accuracy 0.26\n",
            "Step 11100, training accuracy 0.18\n",
            "Step 11200, training accuracy 0.28\n",
            "Step 11300, training accuracy 0.22\n",
            "Step 11400, training accuracy 0.16\n",
            "Step 11500, training accuracy 0.2\n",
            "Step 11600, training accuracy 0.22\n",
            "Step 11700, training accuracy 0.32\n",
            "Step 11800, training accuracy 0.18\n",
            "Step 11900, training accuracy 0.2\n",
            "Step 12000, training accuracy 0.26\n",
            "Step 12100, training accuracy 0.22\n",
            "Step 12200, training accuracy 0.3\n",
            "Step 12300, training accuracy 0.22\n",
            "Step 12400, training accuracy 0.26\n",
            "Step 12500, training accuracy 0.28\n",
            "Step 12600, training accuracy 0.16\n",
            "Step 12700, training accuracy 0.22\n",
            "Step 12800, training accuracy 0.16\n",
            "Step 12900, training accuracy 0.3\n",
            "Step 13000, training accuracy 0.14\n"
          ],
          "name": "stdout"
        }
      ]
    },
    {
      "cell_type": "code",
      "metadata": {
        "id": "efQ2zD2SSOM5",
        "colab": {
          "base_uri": "https://localhost:8080/"
        },
        "outputId": "580fe897-419b-419c-872b-1fbacecadca6"
      },
      "source": [
        "print(\"Time = \", time2)\r\n",
        "print(\"Weights amount = \", calculate_num_of_weights(model2.variables))\r\n",
        "print(\"Training Results:\")\r\n",
        "print(\"\\tRecall = %g\" % train_recall2)\r\n",
        "print(\"\\tPrecision = %g\" % train_precision2)\r\n",
        "print(\"\\tF1 Score = %g\" % train_f1_score2)\r\n",
        "print(\"\\taccuracy = %g\" % train_accuracy2)\r\n",
        "print(\"\\nValidation Results:\")\r\n",
        "print(\"\\tRecall = %g\" % val_recall2)\r\n",
        "print(\"\\tPrecision = %g\" % val_precision2)\r\n",
        "print(\"\\tF1 Score = %g\" % val_f1_score2)\r\n",
        "print(\"\\taccuracy = %g\" % val_accuracy2)\r\n",
        "print(\"\\nTest Results:\")\r\n",
        "print(\"\\tRecall = %g\" % test_recall2)\r\n",
        "print(\"\\tPrecision = %g\" % test_precision2)\r\n",
        "print(\"\\tF1 Score = %g\" % test_f1_score2)\r\n",
        "print(\"\\taccuracy = %g\" % test_accuracy2)"
      ],
      "execution_count": null,
      "outputs": [
        {
          "output_type": "stream",
          "text": [
            "Time =  181.26991271972656\n",
            "Weights amount =  199210\n",
            "Training Results:\n",
            "\tRecall = 0.191449\n",
            "\tPrecision = 0.0672891\n",
            "\tF1 Score = 0.0884157\n",
            "\taccuracy = 0.210229\n",
            "\n",
            "Validation Results:\n",
            "\tRecall = 0.184094\n",
            "\tPrecision = 0.0555103\n",
            "\tF1 Score = 0.0778403\n",
            "\taccuracy = 0.1905\n",
            "\n",
            "Test Results:\n",
            "\tRecall = 0.185119\n",
            "\tPrecision = 0.0548759\n",
            "\tF1 Score = 0.0777027\n",
            "\taccuracy = 0.1885\n"
          ],
          "name": "stdout"
        }
      ]
    },
    {
      "cell_type": "markdown",
      "metadata": {
        "id": "6djDfsb6PU3Z"
      },
      "source": [
        "## Model 3\r\n",
        "Logistic regression network with one convolutional layer with 32 filters (5x5, stride = 1, padding) and 2x2 max pooling layer with stride = 2. "
      ]
    },
    {
      "cell_type": "code",
      "metadata": {
        "id": "BPQrISkWRBpQ"
      },
      "source": [
        "class Model3:\r\n",
        "  def __init__(self):\r\n",
        "    self.w_conv1 = weight_variable([5, 5, 1, 32], name=\"WeightsC1\")  # 32 filters of 5X5X1\r\n",
        "    self.b_conv1 = bias_variable([32], name=\"BiasesC1\")  # every neuron is a filter for 5X5 pixel sub matrix\r\n",
        "    # that means that every 5X5 weights multiplication is summed and added with one bias\r\n",
        "    # Stacking a second convolutional layer\r\n",
        "    self.w_conv2 = weight_variable([5, 5, 32, 32], name=\"WeightsC2\")  # 64 filters of 5x5x32\r\n",
        "    # takes into account the out put of all 32 filters from the first layer.\r\n",
        "    self.b_conv2 = bias_variable([32], name=\"BiasesC2\")\r\n",
        "     # Fully connected layer of 1024 units\r\n",
        "     # Max pooling layer of 2x2, pic becomes 7x7x64\r\n",
        "    self.w_fc1 = weight_variable([7*7*32, 1024], name=\"WeightsFC1\")\r\n",
        "    self.b_fc1 = bias_variable([1024], name=\"BiasesFC1\")\r\n",
        "    # Final layer - softmax\r\n",
        "    self.w_fc2 = weight_variable([1024, 10], name=\"WeightsFC2\")\r\n",
        "    self.b_fc2 = bias_variable([10], name=\"BiasesFC2\")\r\n",
        "    self.variables = [self.w_conv1, self.w_fc1, self.w_fc2, self.b_conv1, self.b_fc1, self.b_fc2]\r\n",
        "   \r\n",
        "  def __call__(self, x, training=False, keep_prob=None):\r\n",
        "    x = tf.reshape(x, [-1, 28, 28, 1])  # input layer 28x28x1\r\n",
        "    # -1 means: compute that dim so other dims will remain as defined.\r\n",
        "    h_covn1 = tf.nn.relu(conv2d(x, self.w_conv1) + self.b_conv1)\r\n",
        "    h_pool1 = max_pooling_2x2(h_covn1)\r\n",
        "    h_conv2 = tf.nn.relu(conv2d(h_pool1, self.w_conv2, 1) + self.b_conv2)\r\n",
        "    h_pool2 = max_pooling_2x2(h_conv2)\r\n",
        "    # Max pooling layer of 2x2, pic becomes 14x14x32\r\n",
        "    h_pool2_flat = tf.reshape(h_pool2, [-1, 7*7*32])  \r\n",
        "    # -1 means: compute that dim so other dims will remain as defined.\r\n",
        "    h_fc1 = tf.nn.relu(tf.matmul(h_pool2_flat, self.w_fc1) + self.b_fc1)\r\n",
        "    return tf.matmul(h_fc1, self.w_fc2) + self.b_fc2  "
      ],
      "execution_count": null,
      "outputs": []
    },
    {
      "cell_type": "code",
      "metadata": {
        "id": "U6JFPCHpSZxp",
        "colab": {
          "base_uri": "https://localhost:8080/"
        },
        "outputId": "af778d5d-f354-4a23-fcc6-a54ba0e3c2e2"
      },
      "source": [
        "start = time.time()\r\n",
        "model3 = Model3()\r\n",
        "\r\n",
        "# Calculate Recall, Precision, F1_Score, Accuracy of Traning data\r\n",
        "train_recall3, train_precision3, train_f1_score3, train_accuracy3, iter_time3 = calculate_train_stats(model3, train_ds)\r\n",
        "end = time.time()\r\n",
        "time3 = end - start\r\n",
        "\r\n",
        "# Calculate Recall, Precision, F1_Score, Accuracy of Validation data\r\n",
        "val_recall3, val_precision3, val_f1_score3, val_accuracy3 = calculate_test_stats(model3, val_ds)\r\n",
        "\r\n",
        "# Calculate Recall, Precision, F1_Score, Accuracy of Test data\r\n",
        "test_recall3, test_precision3, test_f1_score3, test_accuracy3 = calculate_test_stats(model3, test_ds)"
      ],
      "execution_count": null,
      "outputs": [
        {
          "output_type": "stream",
          "text": [
            "Step 0, training accuracy 0.2\n",
            "Step 100, training accuracy 0.78\n",
            "Step 200, training accuracy 0.92\n",
            "Step 300, training accuracy 0.98\n",
            "Step 400, training accuracy 0.92\n",
            "Step 500, training accuracy 0.92\n",
            "Step 600, training accuracy 1\n",
            "Step 700, training accuracy 1\n",
            "Step 800, training accuracy 0.92\n",
            "Step 900, training accuracy 0.98\n",
            "Step 1000, training accuracy 0.98\n",
            "Step 1100, training accuracy 0.98\n",
            "Step 1200, training accuracy 1\n",
            "Step 1300, training accuracy 0.94\n",
            "Step 1400, training accuracy 0.98\n",
            "Step 1500, training accuracy 0.94\n",
            "Step 1600, training accuracy 0.96\n",
            "Step 1700, training accuracy 0.94\n",
            "Step 1800, training accuracy 0.96\n",
            "Step 1900, training accuracy 1\n",
            "Step 2000, training accuracy 1\n",
            "Step 2100, training accuracy 0.98\n",
            "Step 2200, training accuracy 0.98\n",
            "Step 2300, training accuracy 1\n",
            "Step 2400, training accuracy 0.92\n",
            "Step 2500, training accuracy 1\n",
            "Step 2600, training accuracy 0.98\n",
            "Step 2700, training accuracy 1\n",
            "Step 2800, training accuracy 0.98\n",
            "Step 2900, training accuracy 0.98\n",
            "Step 3000, training accuracy 0.98\n",
            "Step 3100, training accuracy 1\n",
            "Step 3200, training accuracy 0.98\n",
            "Step 3300, training accuracy 1\n",
            "Step 3400, training accuracy 1\n",
            "Step 3500, training accuracy 1\n",
            "Step 3600, training accuracy 0.98\n",
            "Step 3700, training accuracy 1\n",
            "Step 3800, training accuracy 1\n",
            "Step 3900, training accuracy 1\n",
            "Step 4000, training accuracy 0.98\n",
            "Step 4100, training accuracy 0.98\n",
            "Step 4200, training accuracy 1\n",
            "Step 4300, training accuracy 1\n",
            "Step 4400, training accuracy 1\n",
            "Step 4500, training accuracy 0.96\n",
            "Step 4600, training accuracy 0.98\n",
            "Step 4700, training accuracy 1\n",
            "Step 4800, training accuracy 0.94\n",
            "Step 4900, training accuracy 0.98\n",
            "Step 5000, training accuracy 1\n",
            "Step 5100, training accuracy 1\n",
            "Step 5200, training accuracy 0.96\n",
            "Step 5300, training accuracy 1\n",
            "Step 5400, training accuracy 1\n",
            "Step 5500, training accuracy 1\n",
            "Step 5600, training accuracy 1\n",
            "Step 5700, training accuracy 1\n",
            "Step 5800, training accuracy 0.98\n",
            "Step 5900, training accuracy 1\n",
            "Step 6000, training accuracy 0.98\n",
            "Step 6100, training accuracy 1\n",
            "Step 6200, training accuracy 1\n",
            "Step 6300, training accuracy 0.96\n",
            "Step 6400, training accuracy 0.96\n",
            "Step 6500, training accuracy 1\n",
            "Step 6600, training accuracy 0.98\n",
            "Step 6700, training accuracy 1\n",
            "Step 6800, training accuracy 1\n",
            "Step 6900, training accuracy 1\n",
            "Step 7000, training accuracy 0.96\n",
            "Step 7100, training accuracy 1\n",
            "Step 7200, training accuracy 1\n",
            "Step 7300, training accuracy 1\n",
            "Step 7400, training accuracy 1\n",
            "Step 7500, training accuracy 1\n",
            "Step 7600, training accuracy 0.98\n",
            "Step 7700, training accuracy 1\n",
            "Step 7800, training accuracy 0.98\n",
            "Step 7900, training accuracy 0.98\n",
            "Step 8000, training accuracy 0.98\n",
            "Step 8100, training accuracy 1\n",
            "Step 8200, training accuracy 1\n",
            "Step 8300, training accuracy 1\n",
            "Step 8400, training accuracy 1\n",
            "Step 8500, training accuracy 0.98\n",
            "Step 8600, training accuracy 1\n",
            "Step 8700, training accuracy 1\n",
            "Step 8800, training accuracy 1\n",
            "Step 8900, training accuracy 0.98\n",
            "Step 9000, training accuracy 1\n",
            "Step 9100, training accuracy 1\n",
            "Step 9200, training accuracy 1\n",
            "Step 9300, training accuracy 1\n",
            "Step 9400, training accuracy 1\n",
            "Step 9500, training accuracy 1\n",
            "Step 9600, training accuracy 0.96\n",
            "Step 9700, training accuracy 1\n",
            "Step 9800, training accuracy 1\n",
            "Step 9900, training accuracy 1\n",
            "Step 10000, training accuracy 1\n",
            "Step 10100, training accuracy 0.94\n",
            "Step 10200, training accuracy 1\n",
            "Step 10300, training accuracy 1\n",
            "Step 10400, training accuracy 1\n",
            "Step 10500, training accuracy 1\n",
            "Step 10600, training accuracy 0.98\n",
            "Step 10700, training accuracy 1\n",
            "Step 10800, training accuracy 1\n",
            "Step 10900, training accuracy 1\n",
            "Step 11000, training accuracy 1\n",
            "Step 11100, training accuracy 1\n",
            "Step 11200, training accuracy 1\n",
            "Step 11300, training accuracy 1\n",
            "Step 11400, training accuracy 0.98\n",
            "Step 11500, training accuracy 1\n",
            "Step 11600, training accuracy 1\n",
            "Step 11700, training accuracy 1\n",
            "Step 11800, training accuracy 1\n",
            "Step 11900, training accuracy 1\n",
            "Step 12000, training accuracy 1\n",
            "Step 12100, training accuracy 1\n",
            "Step 12200, training accuracy 1\n",
            "Step 12300, training accuracy 1\n",
            "Step 12400, training accuracy 1\n",
            "Step 12500, training accuracy 1\n",
            "Step 12600, training accuracy 1\n",
            "Step 12700, training accuracy 0.98\n",
            "Step 12800, training accuracy 1\n",
            "Step 12900, training accuracy 0.98\n",
            "Step 13000, training accuracy 1\n"
          ],
          "name": "stdout"
        }
      ]
    },
    {
      "cell_type": "code",
      "metadata": {
        "id": "Izl1nqJmTBN4",
        "colab": {
          "base_uri": "https://localhost:8080/"
        },
        "outputId": "8a5da1b6-1db6-48ba-b89a-1fcc3922c714"
      },
      "source": [
        "print(\"Time = \", time3)\r\n",
        "print(\"Weights amount = \", calculate_num_of_weights(model3.variables))\r\n",
        "print(\"Training Results:\")\r\n",
        "print(\"\\tRecall = %g\" % train_recall3)\r\n",
        "print(\"\\tPrecision = %g\" % train_precision3)\r\n",
        "print(\"\\tF1 Score = %g\" % train_f1_score3)\r\n",
        "print(\"\\taccuracy = %g\" % train_accuracy3)\r\n",
        "print(\"\\nValidation Results:\")\r\n",
        "print(\"\\tRecall = %g\" % val_recall3)\r\n",
        "print(\"\\tPrecision = %g\" % val_precision3)\r\n",
        "print(\"\\tF1 Score = %g\" % val_f1_score3)\r\n",
        "print(\"\\taccuracy = %g\" % val_accuracy3)\r\n",
        "print(\"\\nTest Results:\")\r\n",
        "print(\"\\tRecall = %g\" % test_recall3)\r\n",
        "print(\"\\tPrecision = %g\" % test_precision3)\r\n",
        "print(\"\\tF1 Score = %g\" % test_f1_score3)\r\n",
        "print(\"\\taccuracy = %g\" % test_accuracy3)"
      ],
      "execution_count": null,
      "outputs": [
        {
          "output_type": "stream",
          "text": [
            "Time =  213.7352991104126\n",
            "Weights amount =  1617738\n",
            "Training Results:\n",
            "\tRecall = 0.971619\n",
            "\tPrecision = 0.972684\n",
            "\tF1 Score = 0.970172\n",
            "\taccuracy = 0.979847\n",
            "\n",
            "Validation Results:\n",
            "\tRecall = 0.974829\n",
            "\tPrecision = 0.975586\n",
            "\tF1 Score = 0.972398\n",
            "\taccuracy = 0.979333\n",
            "\n",
            "Test Results:\n",
            "\tRecall = 0.977388\n",
            "\tPrecision = 0.978435\n",
            "\tF1 Score = 0.975374\n",
            "\taccuracy = 0.9812\n"
          ],
          "name": "stdout"
        }
      ]
    },
    {
      "cell_type": "markdown",
      "metadata": {
        "id": "86mN9xJLiI6E"
      },
      "source": [
        "#### **Convolution First and Second Layers**"
      ]
    },
    {
      "cell_type": "code",
      "metadata": {
        "colab": {
          "base_uri": "https://localhost:8080/",
          "height": 501
        },
        "id": "0Ao585U_lcnt",
        "outputId": "ecd621f7-0af9-41bb-db5b-bb1ce7809e67"
      },
      "source": [
        "show_convolutions(model3, 2, 2, x_train)"
      ],
      "execution_count": null,
      "outputs": [
        {
          "output_type": "display_data",
          "data": {
            "text/plain": [
              "<Figure size 432x288 with 0 Axes>"
            ]
          },
          "metadata": {
            "tags": []
          }
        },
        {
          "output_type": "display_data",
          "data": {
            "image/png": "[encoded data removed]",
            "text/plain": [
              "<Figure size 576x576 with 4 Axes>"
            ]
          },
          "metadata": {
            "tags": [],
            "needs_background": "light"
          }
        }
      ]
    },
    {
      "cell_type": "markdown",
      "metadata": {
        "id": "2gug7ct0CHC7"
      },
      "source": [
        "## Model 4"
      ]
    },
    {
      "cell_type": "code",
      "metadata": {
        "id": "YnWFKHlYCIQP"
      },
      "source": [
        "class Model4:\r\n",
        "  def __init__(self):\r\n",
        "    self.w_conv1 = weight_variable([5, 5, 1, 32], name=\"WeightsC1\")  # 32 filters of 5X5X1\r\n",
        "    self.b_conv1 = bias_variable([32], name=\"BiasesC1\")  # every neuron is a filter for 5X5 pixel sub matrix\r\n",
        "    # that means that every 5X5 weights multiplication is summed and added with one bias\r\n",
        "    # Stacking a second convolutional layer\r\n",
        "    # Max pooling layer of 2x2, pic becomes 14x14x32\r\n",
        "    self.w_conv2 = weight_variable([5, 5, 32, 32], name=\"WeightsC2\")  # 64 filters of 5x5x32\r\n",
        "    # takes into account the out put of all 32 filters from the first layer.\r\n",
        "    self.b_conv2 = bias_variable([32], name=\"BiasesC2\")\r\n",
        "    # Stacking a third convolutional layer\r\n",
        "    # Max pooling layer of 2x2, pic becomes 7x7x32\r\n",
        "    self.w_conv3 = weight_variable([5, 5, 32, 64], name=\"WeightsC2\")  # 64 filters of 5x5x32\r\n",
        "    # takes into account the out put of all 32 filters from the first layer.\r\n",
        "    self.b_conv3 = bias_variable([64], name=\"BiasesC2\")\r\n",
        "     # Fully connected layer of 1024 units\r\n",
        "     # Convolution layer with stride 2, pic becomes 4x4x64\r\n",
        "     # Max pooling layer of 2x2, pic becomes 2x2x64\r\n",
        "    self.w_fc1 = weight_variable([2*2*64, 1024], name=\"WeightsFC1\")\r\n",
        "    self.b_fc1 = bias_variable([1024], name=\"BiasesFC1\")\r\n",
        "    # Final layer - softmax\r\n",
        "    self.w_fc2 = weight_variable([1024, 10], name=\"WeightsFC2\")\r\n",
        "    self.b_fc2 = bias_variable([10], name=\"BiasesFC2\")\r\n",
        "    self.variables = [self.w_conv1, self.w_conv2, self.w_fc1, self.w_fc2,self.w_conv3, self.b_conv1, self.b_conv2, self.b_conv3, self.b_fc1, self.b_fc2]\r\n",
        "   \r\n",
        "  def __call__(self, x, training=False, keep_prob=None):\r\n",
        "    x = tf.reshape(x, [-1, 28, 28, 1])  # input layer 28x28x1\r\n",
        "    # -1 means: compute that dim so other dims will remain as defined.\r\n",
        "    h_covn1 = tf.nn.relu(conv2d(x, self.w_conv1) + self.b_conv1)\r\n",
        "    h_pool1 = max_pooling_2x2(h_covn1)\r\n",
        "    h_conv2 = tf.nn.relu(conv2d(h_pool1, self.w_conv2) + self.b_conv2)\r\n",
        "    h_pool2 = max_pooling_2x2(h_conv2)\r\n",
        "    h_conv3 = tf.nn.relu(conv2d(h_pool2, self.w_conv3, 2) + self.b_conv3)\r\n",
        "    h_pool3 = max_pooling_2x2(h_conv3)\r\n",
        "    # Max pooling layer of 2x2, pic becomes 7x7x64\r\n",
        "    h_pool3_flat = tf.reshape(h_pool3, [-1, 2*2*64])  \r\n",
        "    # -1 means: compute that dim so other dims will remain as defined.\r\n",
        "    h_fc1 = tf.nn.relu(tf.matmul(h_pool3_flat, self.w_fc1) + self.b_fc1)\r\n",
        "    return tf.matmul(h_fc1, self.w_fc2) + self.b_fc2    "
      ],
      "execution_count": null,
      "outputs": []
    },
    {
      "cell_type": "code",
      "metadata": {
        "colab": {
          "base_uri": "https://localhost:8080/"
        },
        "id": "5vlA5Dx7SekO",
        "outputId": "66aa4025-ce6e-4278-cd3c-bab2401938a5"
      },
      "source": [
        "start = time.time()\r\n",
        "model4 = Model4()\r\n",
        "\r\n",
        "# Calculate Recall, Precision, F1_Score, Accuracy of Traning data\r\n",
        "train_recall4, train_precision4, train_f1_score4, train_accuracy4, iter_time4 = calculate_train_stats(model4, train_ds)\r\n",
        "end = time.time()\r\n",
        "time4 = end - start\r\n",
        "\r\n",
        "# Calculate Recall, Precision, F1_Score, Accuracy of Validation data\r\n",
        "val_recall4, val_precision4, val_f1_score4, val_accuracy4 = calculate_test_stats(model4, val_ds)\r\n",
        "\r\n",
        "# Calculate Recall, Precision, F1_Score, Accuracy of Test data\r\n",
        "test_recall4, test_precision4, test_f1_score4, test_accuracy4 = calculate_test_stats(model4, test_ds)"
      ],
      "execution_count": null,
      "outputs": [
        {
          "output_type": "stream",
          "text": [
            "Step 0, training accuracy 0.14\n",
            "Step 100, training accuracy 0.9\n",
            "Step 200, training accuracy 0.98\n",
            "Step 300, training accuracy 0.98\n",
            "Step 400, training accuracy 0.96\n",
            "Step 500, training accuracy 0.94\n",
            "Step 600, training accuracy 1\n",
            "Step 700, training accuracy 0.98\n",
            "Step 800, training accuracy 0.98\n",
            "Step 900, training accuracy 0.98\n",
            "Step 1000, training accuracy 1\n",
            "Step 1100, training accuracy 1\n",
            "Step 1200, training accuracy 1\n",
            "Step 1300, training accuracy 1\n",
            "Step 1400, training accuracy 1\n",
            "Step 1500, training accuracy 1\n",
            "Step 1600, training accuracy 0.98\n",
            "Step 1700, training accuracy 1\n",
            "Step 1800, training accuracy 1\n",
            "Step 1900, training accuracy 1\n",
            "Step 2000, training accuracy 1\n",
            "Step 2100, training accuracy 1\n",
            "Step 2200, training accuracy 1\n",
            "Step 2300, training accuracy 0.96\n",
            "Step 2400, training accuracy 0.98\n",
            "Step 2500, training accuracy 0.98\n",
            "Step 2600, training accuracy 0.98\n",
            "Step 2700, training accuracy 0.98\n",
            "Step 2800, training accuracy 1\n",
            "Step 2900, training accuracy 1\n",
            "Step 3000, training accuracy 1\n",
            "Step 3100, training accuracy 1\n",
            "Step 3200, training accuracy 1\n",
            "Step 3300, training accuracy 1\n",
            "Step 3400, training accuracy 0.96\n",
            "Step 3500, training accuracy 1\n",
            "Step 3600, training accuracy 1\n",
            "Step 3700, training accuracy 1\n",
            "Step 3800, training accuracy 1\n",
            "Step 3900, training accuracy 1\n",
            "Step 4000, training accuracy 1\n",
            "Step 4100, training accuracy 1\n",
            "Step 4200, training accuracy 1\n",
            "Step 4300, training accuracy 1\n",
            "Step 4400, training accuracy 1\n",
            "Step 4500, training accuracy 1\n",
            "Step 4600, training accuracy 1\n",
            "Step 4700, training accuracy 1\n",
            "Step 4800, training accuracy 0.98\n",
            "Step 4900, training accuracy 1\n",
            "Step 5000, training accuracy 1\n",
            "Step 5100, training accuracy 1\n",
            "Step 5200, training accuracy 1\n",
            "Step 5300, training accuracy 0.98\n",
            "Step 5400, training accuracy 1\n",
            "Step 5500, training accuracy 1\n",
            "Step 5600, training accuracy 1\n",
            "Step 5700, training accuracy 1\n",
            "Step 5800, training accuracy 1\n",
            "Step 5900, training accuracy 1\n",
            "Step 6000, training accuracy 1\n",
            "Step 6100, training accuracy 1\n",
            "Step 6200, training accuracy 1\n",
            "Step 6300, training accuracy 1\n",
            "Step 6400, training accuracy 1\n",
            "Step 6500, training accuracy 1\n",
            "Step 6600, training accuracy 1\n",
            "Step 6700, training accuracy 1\n",
            "Step 6800, training accuracy 1\n",
            "Step 6900, training accuracy 1\n",
            "Step 7000, training accuracy 1\n",
            "Step 7100, training accuracy 1\n",
            "Step 7200, training accuracy 1\n",
            "Step 7300, training accuracy 1\n",
            "Step 7400, training accuracy 1\n",
            "Step 7500, training accuracy 1\n",
            "Step 7600, training accuracy 1\n",
            "Step 7700, training accuracy 1\n",
            "Step 7800, training accuracy 1\n",
            "Step 7900, training accuracy 1\n",
            "Step 8000, training accuracy 1\n",
            "Step 8100, training accuracy 1\n",
            "Step 8200, training accuracy 1\n",
            "Step 8300, training accuracy 1\n",
            "Step 8400, training accuracy 1\n",
            "Step 8500, training accuracy 1\n",
            "Step 8600, training accuracy 1\n",
            "Step 8700, training accuracy 1\n",
            "Step 8800, training accuracy 1\n",
            "Step 8900, training accuracy 1\n",
            "Step 9000, training accuracy 1\n",
            "Step 9100, training accuracy 1\n",
            "Step 9200, training accuracy 1\n",
            "Step 9300, training accuracy 1\n",
            "Step 9400, training accuracy 1\n",
            "Step 9500, training accuracy 1\n",
            "Step 9600, training accuracy 1\n",
            "Step 9700, training accuracy 1\n",
            "Step 9800, training accuracy 1\n",
            "Step 9900, training accuracy 1\n",
            "Step 10000, training accuracy 1\n",
            "Step 10100, training accuracy 1\n",
            "Step 10200, training accuracy 1\n",
            "Step 10300, training accuracy 1\n",
            "Step 10400, training accuracy 1\n",
            "Step 10500, training accuracy 1\n",
            "Step 10600, training accuracy 1\n",
            "Step 10700, training accuracy 1\n",
            "Step 10800, training accuracy 1\n",
            "Step 10900, training accuracy 1\n",
            "Step 11000, training accuracy 1\n",
            "Step 11100, training accuracy 1\n",
            "Step 11200, training accuracy 1\n",
            "Step 11300, training accuracy 1\n",
            "Step 11400, training accuracy 1\n",
            "Step 11500, training accuracy 1\n",
            "Step 11600, training accuracy 1\n",
            "Step 11700, training accuracy 1\n",
            "Step 11800, training accuracy 1\n",
            "Step 11900, training accuracy 1\n",
            "Step 12000, training accuracy 1\n",
            "Step 12100, training accuracy 1\n",
            "Step 12200, training accuracy 1\n",
            "Step 12300, training accuracy 1\n",
            "Step 12400, training accuracy 1\n",
            "Step 12500, training accuracy 1\n",
            "Step 12600, training accuracy 1\n",
            "Step 12700, training accuracy 1\n",
            "Step 12800, training accuracy 1\n",
            "Step 12900, training accuracy 1\n",
            "Step 13000, training accuracy 1\n"
          ],
          "name": "stdout"
        }
      ]
    },
    {
      "cell_type": "code",
      "metadata": {
        "id": "zASAiIEqTJDr",
        "colab": {
          "base_uri": "https://localhost:8080/"
        },
        "outputId": "f83fc8fa-8e71-46cb-fdb0-8f854cbdfcf4"
      },
      "source": [
        "print(\"Time = \", time4)\r\n",
        "print(\"Weights amount = \", calculate_num_of_weights(model4.variables))\r\n",
        "print(\"Training Results:\")\r\n",
        "print(\"\\tRecall = %g\" % train_recall4)\r\n",
        "print(\"\\tPrecision = %g\" % train_precision4)\r\n",
        "print(\"\\tF1 Score = %g\" % train_f1_score4)\r\n",
        "print(\"\\taccuracy = %g\" % train_accuracy4)\r\n",
        "print(\"\\nValidation Results:\")\r\n",
        "print(\"\\tRecall = %g\" % val_recall4)\r\n",
        "print(\"\\tPrecision = %g\" % val_precision4)\r\n",
        "print(\"\\tF1 Score = %g\" % val_f1_score4)\r\n",
        "print(\"\\taccuracy = %g\" % val_accuracy4)\r\n",
        "print(\"\\nTest Results:\")\r\n",
        "print(\"\\tRecall = %g\" % test_recall4)\r\n",
        "print(\"\\tPrecision = %g\" % test_precision4)\r\n",
        "print(\"\\tF1 Score = %g\" % test_f1_score4)\r\n",
        "print(\"\\taccuracy = %g\" % test_accuracy4)"
      ],
      "execution_count": null,
      "outputs": [
        {
          "output_type": "stream",
          "text": [
            "Time =  269.86057209968567\n",
            "Weights amount =  351146\n",
            "Training Results:\n",
            "\tRecall = 0.979176\n",
            "\tPrecision = 0.979628\n",
            "\tF1 Score = 0.978617\n",
            "\taccuracy = 0.989466\n",
            "\n",
            "Validation Results:\n",
            "\tRecall = 0.985385\n",
            "\tPrecision = 0.985647\n",
            "\tF1 Score = 0.984278\n",
            "\taccuracy = 0.989917\n",
            "\n",
            "Test Results:\n",
            "\tRecall = 0.987179\n",
            "\tPrecision = 0.987578\n",
            "\tF1 Score = 0.98624\n",
            "\taccuracy = 0.9907\n"
          ],
          "name": "stdout"
        }
      ]
    },
    {
      "cell_type": "markdown",
      "metadata": {
        "id": "XV3hPnZHl8Xe"
      },
      "source": [
        "#### **Convolution First and Second Layers**"
      ]
    },
    {
      "cell_type": "code",
      "metadata": {
        "colab": {
          "base_uri": "https://localhost:8080/",
          "height": 501
        },
        "id": "YkCZ4hNCl_Ml",
        "outputId": "0b380d00-6cc5-4de6-ea6e-2690e2f1f549"
      },
      "source": [
        "show_convolutions(model4, 2, 2, x_train)"
      ],
      "execution_count": null,
      "outputs": [
        {
          "output_type": "display_data",
          "data": {
            "text/plain": [
              "<Figure size 432x288 with 0 Axes>"
            ]
          },
          "metadata": {
            "tags": []
          }
        },
        {
          "output_type": "display_data",
          "data": {
            "image/png": "[encoded data removed]",
            "text/plain": [
              "<Figure size 576x576 with 4 Axes>"
            ]
          },
          "metadata": {
            "tags": [],
            "needs_background": "light"
          }
        }
      ]
    },
    {
      "cell_type": "markdown",
      "metadata": {
        "id": "6wCQLfotEgzU"
      },
      "source": [
        "## Model 5"
      ]
    },
    {
      "cell_type": "code",
      "metadata": {
        "id": "uxXoCitNEiim"
      },
      "source": [
        "class Model5:\r\n",
        "  def __init__(self):\r\n",
        "    self.w_conv1 = weight_variable([5, 5, 1, 32], name=\"WeightsC1\")  # 32 filters of 5X5X1\r\n",
        "    self.b_conv1 = bias_variable([32], name=\"BiasesC1\")  # every neuron is a filter for 5X5 pixel sub matrix\r\n",
        "    # that means that every 5X5 weights multiplication is summed and added with one bias\r\n",
        "    # Stacking a second convolutional layer\r\n",
        "    # Max pooling layer of 2x2, pic becomes 14x14x32\r\n",
        "    self.w_conv2 = weight_variable([5, 5, 32, 32], name=\"WeightsC2\")  # 64 filters of 5x5x32\r\n",
        "    # takes into account the out put of all 32 filters from the first layer.\r\n",
        "    self.b_conv2 = bias_variable([32], name=\"BiasesC2\")\r\n",
        "    # Stacking a third convolutional layer\r\n",
        "    # Max pooling layer of 2x2, pic becomes 7x7x32\r\n",
        "    self.w_conv3 = weight_variable([5, 5, 32, 64], name=\"WeightsC2\")  # 64 filters of 5x5x32\r\n",
        "    # takes into account the out put of all 32 filters from the first layer.\r\n",
        "    self.b_conv3 = bias_variable([64], name=\"BiasesC2\")\r\n",
        "     # Fully connected layer of 1024 units\r\n",
        "     # Convolution layer with stride 2, pic becomes 4x4x64\r\n",
        "     # Max pooling layer of 2x2, pic becomes 2x2x64\r\n",
        "    self.w_fc1 = weight_variable([2*2*64, 1024], name=\"WeightsFC1\")\r\n",
        "    self.b_fc1 = bias_variable([1024], name=\"BiasesFC1\")\r\n",
        "    # Final layer - softmax\r\n",
        "    self.w_fc2 = weight_variable([1024, 10], name=\"WeightsFC2\")\r\n",
        "    self.b_fc2 = bias_variable([10], name=\"BiasesFC2\")\r\n",
        "    self.variables = [self.w_conv1, self.w_conv2, self.w_fc1, self.w_fc2,self.w_conv3, self.b_conv1, self.b_conv2, self.b_conv3, self.b_fc1, self.b_fc2]\r\n",
        "   \r\n",
        "  def __call__(self, x, training, keep_proba=None):\r\n",
        "    x = tf.reshape(x, [-1, 28, 28, 1])  # input layer 28x28x1\r\n",
        "    # -1 means: compute that dim so other dims will remain as defined.\r\n",
        "    h_covn1 = tf.nn.relu(conv2d(x, self.w_conv1) + self.b_conv1)\r\n",
        "    h_pool1 = max_pooling_2x2(h_covn1)\r\n",
        "    h_conv2 = tf.nn.relu(conv2d(h_pool1, self.w_conv2) + self.b_conv2)\r\n",
        "    h_pool2 = max_pooling_2x2(h_conv2)\r\n",
        "    h_conv3 = tf.nn.relu(conv2d(h_pool2, self.w_conv3, 2) + self.b_conv3)\r\n",
        "    h_pool3 = max_pooling_2x2(h_conv3)\r\n",
        "    # Max pooling layer of 2x2, pic becomes 7x7x64\r\n",
        "    h_pool3_flat = tf.reshape(h_pool3, [-1, 2*2*64])  \r\n",
        "    # -1 means: compute that dim so other dims will remain as defined.\r\n",
        "    h_fc1 = tf.nn.relu(tf.matmul(h_pool3_flat, self.w_fc1) + self.b_fc1)  \r\n",
        "    # Dropout\r\n",
        "    if training:\r\n",
        "      rate = 1 - keep_proba\r\n",
        "      h_fc1 = tf.nn.dropout(h_fc1, rate=rate)\r\n",
        "    return tf.matmul(h_fc1, self.w_fc2) + self.b_fc2    "
      ],
      "execution_count": null,
      "outputs": []
    },
    {
      "cell_type": "code",
      "metadata": {
        "colab": {
          "base_uri": "https://localhost:8080/"
        },
        "id": "qPHbksqeKJab",
        "outputId": "3b6b7b9b-46b2-4094-8fab-e8cb38c1ab24"
      },
      "source": [
        "start = time.time()\r\n",
        "model5 = Model5()\r\n",
        "keep_prob = 0.5\r\n",
        "\r\n",
        "# Calculate Recall, Precision, F1_Score, Accuracy of Traning data\r\n",
        "train_recall5, train_precision5, train_f1_score5, train_accuracy5, iter_time5 = calculate_train_stats(model5, train_ds, True, keep_prob, True)\r\n",
        "end = time.time()\r\n",
        "time5 = end - start\r\n",
        "\r\n",
        "# Calculate Recall, Precision, F1_Score, Accuracy of Validation data\r\n",
        "val_recall5, val_precision5, val_f1_score5, val_accuracy5 = calculate_test_stats(model5, val_ds)\r\n",
        "\r\n",
        "# Calculate Recall, Precision, F1_Score, Accuracy of Test data\r\n",
        "test_recall5, test_precision5, test_f1_score5, test_accuracy5 = calculate_test_stats(model5, test_ds)"
      ],
      "execution_count": null,
      "outputs": [
        {
          "output_type": "stream",
          "text": [
            "Step 0, training accuracy 0.24\n",
            "Step 100, training accuracy 0.96\n",
            "Step 200, training accuracy 1\n",
            "Step 300, training accuracy 0.94\n",
            "Step 400, training accuracy 0.96\n",
            "Step 500, training accuracy 0.98\n",
            "Step 600, training accuracy 0.96\n",
            "Step 700, training accuracy 1\n",
            "Step 800, training accuracy 1\n",
            "Step 900, training accuracy 1\n",
            "Step 1000, training accuracy 1\n",
            "Step 1100, training accuracy 0.98\n",
            "Step 1200, training accuracy 0.98\n",
            "Step 1300, training accuracy 0.96\n",
            "Step 1400, training accuracy 1\n",
            "Step 1500, training accuracy 1\n",
            "Step 1600, training accuracy 1\n",
            "Step 1700, training accuracy 1\n",
            "Step 1800, training accuracy 1\n",
            "Step 1900, training accuracy 1\n",
            "Step 2000, training accuracy 1\n",
            "Step 2100, training accuracy 1\n",
            "Step 2200, training accuracy 1\n",
            "Step 2300, training accuracy 0.98\n",
            "Step 2400, training accuracy 1\n",
            "Step 2500, training accuracy 1\n",
            "Step 2600, training accuracy 0.98\n",
            "Step 2700, training accuracy 1\n",
            "Step 2800, training accuracy 1\n",
            "Step 2900, training accuracy 1\n",
            "Step 3000, training accuracy 0.98\n",
            "Step 3100, training accuracy 1\n",
            "Step 3200, training accuracy 1\n",
            "Step 3300, training accuracy 1\n",
            "Step 3400, training accuracy 1\n",
            "Step 3500, training accuracy 0.98\n",
            "Step 3600, training accuracy 1\n",
            "Step 3700, training accuracy 1\n",
            "Step 3800, training accuracy 1\n",
            "Step 3900, training accuracy 1\n",
            "Step 4000, training accuracy 1\n",
            "Step 4100, training accuracy 1\n",
            "Step 4200, training accuracy 0.98\n",
            "Step 4300, training accuracy 1\n",
            "Step 4400, training accuracy 1\n",
            "Step 4500, training accuracy 1\n",
            "Step 4600, training accuracy 1\n",
            "Step 4700, training accuracy 1\n",
            "Step 4800, training accuracy 1\n",
            "Step 4900, training accuracy 1\n",
            "Step 5000, training accuracy 0.96\n",
            "Step 5100, training accuracy 1\n",
            "Step 5200, training accuracy 1\n",
            "Step 5300, training accuracy 1\n",
            "Step 5400, training accuracy 1\n",
            "Step 5500, training accuracy 1\n",
            "Step 5600, training accuracy 1\n",
            "Step 5700, training accuracy 0.98\n",
            "Step 5800, training accuracy 1\n",
            "Step 5900, training accuracy 0.98\n",
            "Step 6000, training accuracy 1\n",
            "Step 6100, training accuracy 1\n",
            "Step 6200, training accuracy 1\n",
            "Step 6300, training accuracy 1\n",
            "Step 6400, training accuracy 1\n",
            "Step 6500, training accuracy 1\n",
            "Step 6600, training accuracy 1\n",
            "Step 6700, training accuracy 1\n",
            "Step 6800, training accuracy 1\n",
            "Step 6900, training accuracy 1\n",
            "Step 7000, training accuracy 1\n",
            "Step 7100, training accuracy 1\n",
            "Step 7200, training accuracy 1\n",
            "Step 7300, training accuracy 1\n",
            "Step 7400, training accuracy 1\n",
            "Step 7500, training accuracy 1\n",
            "Step 7600, training accuracy 1\n",
            "Step 7700, training accuracy 1\n",
            "Step 7800, training accuracy 1\n",
            "Step 7900, training accuracy 1\n",
            "Step 8000, training accuracy 1\n",
            "Step 8100, training accuracy 1\n",
            "Step 8200, training accuracy 1\n",
            "Step 8300, training accuracy 1\n",
            "Step 8400, training accuracy 1\n",
            "Step 8500, training accuracy 1\n",
            "Step 8600, training accuracy 1\n",
            "Step 8700, training accuracy 1\n",
            "Step 8800, training accuracy 1\n",
            "Step 8900, training accuracy 1\n",
            "Step 9000, training accuracy 1\n",
            "Step 9100, training accuracy 1\n",
            "Step 9200, training accuracy 1\n",
            "Step 9300, training accuracy 1\n",
            "Step 9400, training accuracy 1\n",
            "Step 9500, training accuracy 1\n",
            "Step 9600, training accuracy 1\n",
            "Step 9700, training accuracy 1\n",
            "Step 9800, training accuracy 1\n",
            "Step 9900, training accuracy 1\n",
            "Step 10000, training accuracy 1\n",
            "Step 10100, training accuracy 1\n",
            "Step 10200, training accuracy 1\n",
            "Step 10300, training accuracy 1\n",
            "Step 10400, training accuracy 1\n",
            "Step 10500, training accuracy 1\n",
            "Step 10600, training accuracy 1\n",
            "Step 10700, training accuracy 1\n",
            "Step 10800, training accuracy 1\n",
            "Step 10900, training accuracy 1\n",
            "Step 11000, training accuracy 1\n",
            "Step 11100, training accuracy 1\n",
            "Step 11200, training accuracy 1\n",
            "Step 11300, training accuracy 1\n",
            "Step 11400, training accuracy 1\n",
            "Step 11500, training accuracy 1\n",
            "Step 11600, training accuracy 1\n",
            "Step 11700, training accuracy 1\n",
            "Step 11800, training accuracy 1\n",
            "Step 11900, training accuracy 1\n",
            "Step 12000, training accuracy 1\n",
            "Step 12100, training accuracy 1\n",
            "Step 12200, training accuracy 1\n",
            "Step 12300, training accuracy 1\n",
            "Step 12400, training accuracy 1\n",
            "Step 12500, training accuracy 1\n",
            "Step 12600, training accuracy 1\n",
            "Step 12700, training accuracy 1\n",
            "Step 12800, training accuracy 1\n",
            "Step 12900, training accuracy 1\n",
            "Step 13000, training accuracy 1\n"
          ],
          "name": "stdout"
        }
      ]
    },
    {
      "cell_type": "code",
      "metadata": {
        "id": "ekGI2nD6KgCA",
        "colab": {
          "base_uri": "https://localhost:8080/"
        },
        "outputId": "f96e90f6-37c2-4824-dad3-8bd273dabb7c"
      },
      "source": [
        "print(\"Time = \", time5)\r\n",
        "print(\"Weights amount = \", calculate_num_of_weights(model5.variables))\r\n",
        "print(\"Training Results:\")\r\n",
        "print(\"\\tRecall = %g\" % train_recall5)\r\n",
        "print(\"\\tPrecision = %g\" % train_precision5)\r\n",
        "print(\"\\tF1 Score = %g\" % train_f1_score5)\r\n",
        "print(\"\\taccuracy = %g\" % train_accuracy5)\r\n",
        "print(\"\\tNumber of iterations to get 0.99 accuracy: %g iterations\" % iter_time5[0])\r\n",
        "print(\"\\tTime to get 0.99 accuracy: %g seconds\" % iter_time5[1])\r\n",
        "print(\"\\nValidation Results:\")\r\n",
        "print(\"\\tRecall = %g\" % val_recall5)\r\n",
        "print(\"\\tPrecision = %g\" % val_precision5)\r\n",
        "print(\"\\tF1 Score = %g\" % val_f1_score5)\r\n",
        "print(\"\\taccuracy = %g\" % val_accuracy5)\r\n",
        "print(\"\\nTest Results:\")\r\n",
        "print(\"\\tRecall = %g\" % test_recall5)\r\n",
        "print(\"\\tPrecision = %g\" % test_precision5)\r\n",
        "print(\"\\tF1 Score = %g\" % test_f1_score5)\r\n",
        "print(\"\\taccuracy = %g\" % test_accuracy5)"
      ],
      "execution_count": null,
      "outputs": [
        {
          "output_type": "stream",
          "text": [
            "Time =  272.36460876464844\n",
            "Weights amount =  351146\n",
            "Training Results:\n",
            "\tRecall = 0.982784\n",
            "\tPrecision = 0.982213\n",
            "\tF1 Score = 0.981986\n",
            "\taccuracy = 0.990687\n",
            "\tNumber of iterations to get 0.99 accuracy: 101 iterations\n",
            "\tTime to get 0.99 accuracy: 2.29332 seconds\n",
            "\n",
            "Validation Results:\n",
            "\tRecall = 0.984257\n",
            "\tPrecision = 0.984189\n",
            "\tF1 Score = 0.9828\n",
            "\taccuracy = 0.989083\n",
            "\n",
            "Test Results:\n",
            "\tRecall = 0.985843\n",
            "\tPrecision = 0.985915\n",
            "\tF1 Score = 0.984412\n",
            "\taccuracy = 0.9897\n"
          ],
          "name": "stdout"
        }
      ]
    },
    {
      "cell_type": "markdown",
      "metadata": {
        "id": "A7uX6fw2mDmk"
      },
      "source": [
        "#### **Convolution First and Second Layers**"
      ]
    },
    {
      "cell_type": "code",
      "metadata": {
        "colab": {
          "base_uri": "https://localhost:8080/",
          "height": 501
        },
        "id": "h1Zdmvu6mFmy",
        "outputId": "45dd28f1-85e1-49ec-ecc9-1ded47ea52d9"
      },
      "source": [
        "show_convolutions(model5, 2, 2, x_train)"
      ],
      "execution_count": null,
      "outputs": [
        {
          "output_type": "display_data",
          "data": {
            "text/plain": [
              "<Figure size 432x288 with 0 Axes>"
            ]
          },
          "metadata": {
            "tags": []
          }
        },
        {
          "output_type": "display_data",
          "data": {
            "image/png": "[encoded data removed]",
            "text/plain": [
              "<Figure size 576x576 with 4 Axes>"
            ]
          },
          "metadata": {
            "tags": [],
            "needs_background": "light"
          }
        }
      ]
    },
    {
      "cell_type": "markdown",
      "metadata": {
        "id": "HO5FRr0Ll2ct"
      },
      "source": [
        "## Model 6"
      ]
    },
    {
      "cell_type": "code",
      "metadata": {
        "id": "FyKlLF4wl-Nn"
      },
      "source": [
        "large_train_ds = tf.data.Dataset.from_tensor_slices((x_train, t_train)).shuffle(10000).batch(100)\r\n",
        "large_test_ds = tf.data.Dataset.from_tensor_slices((x_test_images, t_test)).batch(100)"
      ],
      "execution_count": null,
      "outputs": []
    },
    {
      "cell_type": "code",
      "metadata": {
        "id": "gFpZd9paml9Y",
        "colab": {
          "base_uri": "https://localhost:8080/"
        },
        "outputId": "e2417540-c726-4644-b931-50bc32965469"
      },
      "source": [
        "start = time.time()\r\n",
        "model6 = Model5()\r\n",
        "keep_prob = 0.5\r\n",
        "\r\n",
        "# Calculate Recall, Precision, F1_Score, Accuracy of Traning data\r\n",
        "train_recall6, train_precision6, train_f1_score6, train_accuracy6, iter_time6 = calculate_train_stats(model6, large_train_ds, True, keep_prob, True)\r\n",
        "end = time.time()\r\n",
        "time6 = end - start\r\n",
        "\r\n",
        "# Calculate Recall, Precision, F1_Score, Accuracy of Validation data\r\n",
        "val_recall6, val_precision6, val_f1_score6, val_accuracy6 = calculate_test_stats(model6, val_ds)\r\n",
        "\r\n",
        "# Calculate Recall, Precision, F1_Score, Accuracy of Test data\r\n",
        "test_recall6, test_precision6, test_f1_score6, test_accuracy6 = calculate_test_stats(model6, large_test_ds)"
      ],
      "execution_count": null,
      "outputs": [
        {
          "output_type": "stream",
          "text": [
            "Step 0, training accuracy 0.19\n",
            "Step 100, training accuracy 0.97\n",
            "Step 200, training accuracy 0.98\n",
            "Step 300, training accuracy 0.99\n",
            "Step 400, training accuracy 0.97\n",
            "Step 500, training accuracy 0.99\n",
            "Step 600, training accuracy 0.94\n",
            "Step 700, training accuracy 1\n",
            "Step 800, training accuracy 1\n",
            "Step 900, training accuracy 1\n",
            "Step 1000, training accuracy 1\n",
            "Step 1100, training accuracy 1\n",
            "Step 1200, training accuracy 1\n",
            "Step 1300, training accuracy 0.99\n",
            "Step 1400, training accuracy 1\n",
            "Step 1500, training accuracy 0.97\n",
            "Step 1600, training accuracy 1\n",
            "Step 1700, training accuracy 1\n",
            "Step 1800, training accuracy 1\n",
            "Step 1900, training accuracy 1\n",
            "Step 2000, training accuracy 0.99\n",
            "Step 2100, training accuracy 0.99\n",
            "Step 2200, training accuracy 0.99\n",
            "Step 2300, training accuracy 0.99\n",
            "Step 2400, training accuracy 1\n",
            "Step 2500, training accuracy 0.98\n",
            "Step 2600, training accuracy 1\n",
            "Step 2700, training accuracy 1\n",
            "Step 2800, training accuracy 1\n",
            "Step 2900, training accuracy 1\n",
            "Step 3000, training accuracy 1\n",
            "Step 3100, training accuracy 1\n",
            "Step 3200, training accuracy 0.99\n",
            "Step 3300, training accuracy 1\n",
            "Step 3400, training accuracy 1\n",
            "Step 3500, training accuracy 0.99\n",
            "Step 3600, training accuracy 1\n",
            "Step 3700, training accuracy 0.99\n",
            "Step 3800, training accuracy 1\n",
            "Step 3900, training accuracy 1\n",
            "Step 4000, training accuracy 1\n",
            "Step 4100, training accuracy 1\n",
            "Step 4200, training accuracy 1\n",
            "Step 4300, training accuracy 1\n",
            "Step 4400, training accuracy 1\n",
            "Step 4500, training accuracy 1\n",
            "Step 4600, training accuracy 1\n",
            "Step 4700, training accuracy 1\n",
            "Step 4800, training accuracy 1\n",
            "Step 4900, training accuracy 1\n",
            "Step 5000, training accuracy 1\n",
            "Step 5100, training accuracy 1\n",
            "Step 5200, training accuracy 1\n",
            "Step 5300, training accuracy 1\n",
            "Step 5400, training accuracy 1\n",
            "Step 5500, training accuracy 1\n",
            "Step 5600, training accuracy 1\n",
            "Step 5700, training accuracy 1\n",
            "Step 5800, training accuracy 1\n",
            "Step 5900, training accuracy 1\n",
            "Step 6000, training accuracy 1\n",
            "Step 6100, training accuracy 1\n",
            "Step 6200, training accuracy 1\n",
            "Step 6300, training accuracy 1\n",
            "Step 6400, training accuracy 1\n",
            "Step 6500, training accuracy 1\n",
            "Step 6600, training accuracy 1\n",
            "Step 6700, training accuracy 1\n",
            "Step 6800, training accuracy 1\n",
            "Step 6900, training accuracy 1\n",
            "Step 7000, training accuracy 1\n",
            "Step 7100, training accuracy 1\n",
            "Step 7200, training accuracy 1\n",
            "Step 7300, training accuracy 1\n",
            "Step 7400, training accuracy 1\n",
            "Step 7500, training accuracy 1\n",
            "Step 7600, training accuracy 1\n",
            "Step 7700, training accuracy 1\n",
            "Step 7800, training accuracy 1\n",
            "Step 7900, training accuracy 1\n",
            "Step 8000, training accuracy 1\n",
            "Step 8100, training accuracy 1\n",
            "Step 8200, training accuracy 1\n",
            "Step 8300, training accuracy 1\n",
            "Step 8400, training accuracy 1\n",
            "Step 8500, training accuracy 1\n",
            "Step 8600, training accuracy 1\n",
            "Step 8700, training accuracy 1\n",
            "Step 8800, training accuracy 1\n",
            "Step 8900, training accuracy 1\n",
            "Step 9000, training accuracy 1\n",
            "Step 9100, training accuracy 1\n",
            "Step 9200, training accuracy 1\n",
            "Step 9300, training accuracy 1\n",
            "Step 9400, training accuracy 1\n",
            "Step 9500, training accuracy 1\n",
            "Step 9600, training accuracy 1\n",
            "Step 9700, training accuracy 1\n",
            "Step 9800, training accuracy 1\n",
            "Step 9900, training accuracy 1\n",
            "Step 10000, training accuracy 1\n",
            "Step 10100, training accuracy 1\n",
            "Step 10200, training accuracy 1\n",
            "Step 10300, training accuracy 1\n",
            "Step 10400, training accuracy 1\n",
            "Step 10500, training accuracy 1\n",
            "Step 10600, training accuracy 1\n",
            "Step 10700, training accuracy 1\n",
            "Step 10800, training accuracy 1\n",
            "Step 10900, training accuracy 0.99\n",
            "Step 11000, training accuracy 1\n",
            "Step 11100, training accuracy 1\n",
            "Step 11200, training accuracy 1\n",
            "Step 11300, training accuracy 1\n",
            "Step 11400, training accuracy 1\n",
            "Step 11500, training accuracy 1\n",
            "Step 11600, training accuracy 1\n",
            "Step 11700, training accuracy 1\n",
            "Step 11800, training accuracy 1\n",
            "Step 11900, training accuracy 1\n",
            "Step 12000, training accuracy 1\n",
            "Step 12100, training accuracy 1\n",
            "Step 12200, training accuracy 1\n",
            "Step 12300, training accuracy 1\n",
            "Step 12400, training accuracy 1\n",
            "Step 12500, training accuracy 1\n",
            "Step 12600, training accuracy 1\n",
            "Step 12700, training accuracy 1\n",
            "Step 12800, training accuracy 1\n",
            "Step 12900, training accuracy 1\n",
            "Step 13000, training accuracy 1\n"
          ],
          "name": "stdout"
        }
      ]
    },
    {
      "cell_type": "code",
      "metadata": {
        "id": "ymj45CSDm-Bf",
        "colab": {
          "base_uri": "https://localhost:8080/"
        },
        "outputId": "62e1596b-e036-4155-e1db-77917fdbef69"
      },
      "source": [
        "print(\"Time = \", time6)\r\n",
        "print(\"Weights amount = \", calculate_num_of_weights(model6.variables))\r\n",
        "print(\"Training Results:\")\r\n",
        "print(\"\\tRecall = %g\" % train_recall6)\r\n",
        "print(\"\\tPrecision = %g\" % train_precision6)\r\n",
        "print(\"\\tF1 Score = %g\" % train_f1_score6)\r\n",
        "print(\"\\taccuracy = %g\" % train_accuracy6)\r\n",
        "print(\"\\tNumber of iterations to get 0.99 accuracy: %g iterations\" % iter_time6[0])\r\n",
        "print(\"\\tTime to get 0.99 accuracy: %g seconds\" % iter_time6[1])\r\n",
        "print(\"\\nValidation Results:\")\r\n",
        "print(\"\\tRecall = %g\" % val_recall6)\r\n",
        "print(\"\\tPrecision = %g\" % val_precision6)\r\n",
        "print(\"\\tF1 Score = %g\" % val_f1_score6)\r\n",
        "print(\"\\taccuracy = %g\" % val_accuracy6)\r\n",
        "print(\"\\nTest Results:\")\r\n",
        "print(\"\\tRecall = %g\" % test_recall6)\r\n",
        "print(\"\\tPrecision = %g\" % test_precision6)\r\n",
        "print(\"\\tF1 Score = %g\" % test_f1_score6)\r\n",
        "print(\"\\taccuracy = %g\" % test_accuracy6)"
      ],
      "execution_count": null,
      "outputs": [
        {
          "output_type": "stream",
          "text": [
            "Time =  283.9542384147644\n",
            "Weights amount =  351146\n",
            "Training Results:\n",
            "\tRecall = 0.991393\n",
            "\tPrecision = 0.991651\n",
            "\tF1 Score = 0.99087\n",
            "\taccuracy = 0.991527\n",
            "\tNumber of iterations to get 0.99 accuracy: 181 iterations\n",
            "\tTime to get 0.99 accuracy: 4.18787 seconds\n",
            "\n",
            "Validation Results:\n",
            "\tRecall = 0.985971\n",
            "\tPrecision = 0.985672\n",
            "\tF1 Score = 0.984637\n",
            "\taccuracy = 0.991083\n",
            "\n",
            "Test Results:\n",
            "\tRecall = 0.992363\n",
            "\tPrecision = 0.992225\n",
            "\tF1 Score = 0.991908\n",
            "\taccuracy = 0.9923\n"
          ],
          "name": "stdout"
        }
      ]
    },
    {
      "cell_type": "markdown",
      "metadata": {
        "id": "Zatzkx4EmlMu"
      },
      "source": [
        "#### **Convolution First and Second Layers**"
      ]
    },
    {
      "cell_type": "code",
      "metadata": {
        "colab": {
          "base_uri": "https://localhost:8080/",
          "height": 501
        },
        "id": "3CImjHZImmq8",
        "outputId": "6a6e4286-bbfd-4d6a-b9fa-8735c36e9dcb"
      },
      "source": [
        "show_convolutions(model6, 2, 2, x_train)"
      ],
      "execution_count": null,
      "outputs": [
        {
          "output_type": "display_data",
          "data": {
            "text/plain": [
              "<Figure size 432x288 with 0 Axes>"
            ]
          },
          "metadata": {
            "tags": []
          }
        },
        {
          "output_type": "display_data",
          "data": {
            "image/png": "[encoded data removed]",
            "text/plain": [
              "<Figure size 576x576 with 4 Axes>"
            ]
          },
          "metadata": {
            "tags": [],
            "needs_background": "light"
          }
        }
      ]
    },
    {
      "cell_type": "markdown",
      "metadata": {
        "id": "criPgmsGU4ct"
      },
      "source": [
        "## Best F-Score Model Visualization\r\n",
        "We can see that model 6 has the best F1 score that is 0.9919"
      ]
    },
    {
      "cell_type": "code",
      "metadata": {
        "colab": {
          "base_uri": "https://localhost:8080/",
          "height": 501
        },
        "id": "l7WSFZKkfHR3",
        "outputId": "6781008b-9d5c-4a70-8300-92a2e0497820"
      },
      "source": [
        "show_visualizations(model6, 3, 2, 5, x_test_images)"
      ],
      "execution_count": null,
      "outputs": [
        {
          "output_type": "display_data",
          "data": {
            "text/plain": [
              "<Figure size 432x288 with 0 Axes>"
            ]
          },
          "metadata": {
            "tags": []
          }
        },
        {
          "output_type": "display_data",
          "data": {
            "image/png": "[encoded data removed]",
            "text/plain": [
              "<Figure size 576x576 with 5 Axes>"
            ]
          },
          "metadata": {
            "tags": [],
            "needs_background": "light"
          }
        }
      ]
    },
    {
      "cell_type": "markdown",
      "metadata": {
        "id": "PP9vvgJ4UYKc"
      },
      "source": [
        "# -----------------------------------------------------------------------------"
      ]
    },
    {
      "cell_type": "code",
      "metadata": {
        "id": "w4PR-zCcM7Bb",
        "colab": {
          "base_uri": "https://localhost:8080/",
          "height": 352
        },
        "outputId": "ce0c7716-8102-4283-c62b-c598acd44186"
      },
      "source": [
        "# print(x_train_images)\n",
        "i = 18\n",
        "imgplot = plt.imshow(x_test_images[i])\n",
        "print(\"Target:\", t_test[i])\n",
        "print(\"Predicted distributions:\", model5(x_test_images[i], False))\n",
        "print(\"Predicted result:\", tf.math.argmax(model6(x_test_images[i], False), 1))"
      ],
      "execution_count": null,
      "outputs": [
        {
          "output_type": "stream",
          "text": [
            "Target: tf.Tensor([0. 0. 0. 1. 0. 0. 0. 0. 0. 0.], shape=(10,), dtype=float32)\n",
            "Predicted distributions: tf.Tensor(\n",
            "[[-383.08563 -385.15106 -375.54926 -322.71863 -409.709   -350.36322\n",
            "  -398.1887  -384.61093 -353.637   -391.12805]], shape=(1, 10), dtype=float32)\n",
            "Predicted result: tf.Tensor([3], shape=(1,), dtype=int64)\n"
          ],
          "name": "stdout"
        },
        {
          "output_type": "display_data",
          "data": {
            "image/png": "[encoded data removed]",
            "text/plain": [
              "<Figure size 432x288 with 1 Axes>"
            ]
          },
          "metadata": {
            "tags": [],
            "needs_background": "light"
          }
        }
      ]
    },
    {
      "cell_type": "code",
      "metadata": {
        "id": "ZpP8_QH0M-YS"
      },
      "source": [
        ""
      ],
      "execution_count": null,
      "outputs": []
    }
  ]
}